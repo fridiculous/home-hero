{
 "cells": [
  {
   "cell_type": "code",
   "execution_count": 67,
   "metadata": {
    "collapsed": false
   },
   "outputs": [
    {
     "name": "stdout",
     "output_type": "stream",
     "text": [
      "The autoreload extension is already loaded. To reload it, use:\n",
      "  %reload_ext autoreload\n"
     ]
    }
   ],
   "source": [
    "import pandas as pd\n",
    "import json\n",
    "\n",
    "%matplotlib inline\n",
    "%load_ext autoreload\n",
    "%autoreload"
   ]
  },
  {
   "cell_type": "code",
   "execution_count": 236,
   "metadata": {
    "collapsed": false
   },
   "outputs": [],
   "source": [
    "from approved_venders import get_approved_venders, get_arizona_listings\n",
    "from approved_venders import get_listings_near, batch_listings_near, batch_arizona_listings"
   ]
  },
  {
   "cell_type": "markdown",
   "metadata": {},
   "source": [
    "### vender information"
   ]
  },
  {
   "cell_type": "code",
   "execution_count": 26,
   "metadata": {
    "collapsed": false
   },
   "outputs": [],
   "source": [
    "venders = pd.DataFrame(json.loads(get_approved_venders())['bundle'])\n",
    "venders.to_csv('../../data/Approved_Vendors.csv')"
   ]
  },
  {
   "cell_type": "code",
   "execution_count": 31,
   "metadata": {
    "collapsed": false
   },
   "outputs": [
    {
     "data": {
      "text/plain": [
       "count        5.000000\n",
       "mean     16702.800000\n",
       "std      16288.408323\n",
       "min          0.000000\n",
       "25%        196.000000\n",
       "50%      20701.000000\n",
       "75%      25514.000000\n",
       "max      37103.000000\n",
       "Name: activeListings, dtype: float64"
      ]
     },
     "execution_count": 31,
     "metadata": {},
     "output_type": "execute_result"
    }
   ],
   "source": [
    "venders.activeListings.describe()"
   ]
  },
  {
   "cell_type": "code",
   "execution_count": 76,
   "metadata": {
    "collapsed": false
   },
   "outputs": [],
   "source": [
    "mesa_df = pd.DataFrame(json.loads(get_listings_near(offset=0))['bundle'])\n",
    "#venders.to_csv('../../data/Approved_Vendors.csv')"
   ]
  },
  {
   "cell_type": "code",
   "execution_count": 81,
   "metadata": {
    "collapsed": true
   },
   "outputs": [
    {
     "name": "stdout",
     "output_type": "stream",
     "text": [
      "Running job 1, last job had 100 listings\n",
      "Running job 2, last job had 100 listings\n",
      "Running job 3, last job had 100 listings\n",
      "Running job 4, last job had 100 listings\n",
      "Running job 5, last job had 100 listings\n",
      "Running job 6, last job had 100 listings\n",
      "Running job 7, last job had 100 listings\n",
      "Running job 8, last job had 100 listings\n",
      "Running job 9, last job had 100 listings\n",
      "Running job 10, last job had 100 listings\n",
      "Running job 11, last job had 100 listings\n",
      "Running job 12, last job had 100 listings\n",
      "Running job 13, last job had 100 listings\n",
      "Running job 14, last job had 100 listings\n",
      "Running job 15, last job had 100 listings\n",
      "Running job 16, last job had 100 listings\n",
      "Running job 17, last job had 100 listings\n",
      "Running job 18, last job had 100 listings\n",
      "Running job 19, last job had 100 listings\n",
      "Running job 20, last job had 100 listings\n",
      "Running job 21, last job had 100 listings\n",
      "Running job 22, last job had 100 listings\n",
      "Running job 23, last job had 100 listings\n",
      "Running job 24, last job had 57 listings\n"
     ]
    }
   ],
   "source": [
    "mesa_list = batch_listings_near()\n",
    "mesa_df = pd.concat(mesa_list, axis=0)\n",
    "mesa_df.to_csv('../../data/city_mesa_df.csv')"
   ]
  },
  {
   "cell_type": "code",
   "execution_count": 226,
   "metadata": {
    "collapsed": true
   },
   "outputs": [
    {
     "name": "stdout",
     "output_type": "stream",
     "text": [
      "Running job 1, last job had 100 listings\n",
      "Running job 2, last job had 100 listings\n",
      "Running job 3, last job had 100 listings\n",
      "Running job 4, last job had 100 listings\n",
      "Running job 5, last job had 100 listings\n",
      "Running job 6, last job had 100 listings\n",
      "Running job 7, last job had 100 listings\n",
      "Running job 8, last job had 100 listings\n",
      "Running job 9, last job had 100 listings\n",
      "Running job 10, last job had 100 listings\n",
      "Running job 11, last job had 100 listings\n",
      "Running job 12, last job had 100 listings\n",
      "Running job 13, last job had 100 listings\n",
      "Running job 14, last job had 100 listings\n",
      "Running job 15, last job had 100 listings\n",
      "Running job 16, last job had 100 listings\n",
      "Running job 17, last job had 100 listings\n",
      "Running job 18, last job had 100 listings\n",
      "Running job 19, last job had 100 listings\n",
      "Running job 20, last job had 100 listings\n",
      "Running job 21, last job had 100 listings\n",
      "Running job 22, last job had 100 listings\n",
      "Running job 23, last job had 100 listings\n",
      "Running job 24, last job had 100 listings\n",
      "Running job 25, last job had 88 listings\n"
     ]
    }
   ],
   "source": [
    "phoenix_list = get_arizona_listings(\"phoenix\")\n",
    "phoenix_df = pd.concat(phoenix_list, axis=0)\n",
    "phoenix_df.to_csv('../../data/city_phoenix_df.csv')"
   ]
  },
  {
   "cell_type": "markdown",
   "metadata": {},
   "source": [
    "### Get AZ Listings"
   ]
  },
  {
   "cell_type": "code",
   "execution_count": 262,
   "metadata": {
    "collapsed": false
   },
   "outputs": [
    {
     "name": "stdout",
     "output_type": "stream",
     "text": [
      "Running job 1, last job had 100 listings\n",
      "Running job 2, last job had 100 listings\n",
      "Running job 3, last job had 100 listings\n",
      "Running job 4, last job had 100 listings\n",
      "Running job 5, last job had 100 listings\n"
     ]
    }
   ],
   "source": [
    "az_list = batch_arizona_listings()\n",
    "az_df = pd.concat(az_list2, axis=0)\n",
    "az_df.to_csv('../../data/az_df.csv')"
   ]
  },
  {
   "cell_type": "code",
   "execution_count": 248,
   "metadata": {
    "collapsed": false
   },
   "outputs": [],
   "source": [
    "import matplotlib\n",
    "matplotlib.style.use('ggplot')"
   ]
  },
  {
   "cell_type": "code",
   "execution_count": 252,
   "metadata": {
    "collapsed": false
   },
   "outputs": [],
   "source": [
    "c = ['baths',\n",
    "'bedrooms',\n",
    "'acres',\n",
    "'squareFootage',\n",
    "'closePrice',\n",
    "'daysOnMarket',\n",
    "'originalPrice',\n",
    "'price',\n",
    "'yearBuilt']"
   ]
  },
  {
   "cell_type": "code",
   "execution_count": 266,
   "metadata": {
    "collapsed": false
   },
   "outputs": [],
   "source": [
    "import matplotlib.pyplot as plt\n",
    "import numpy as np\n",
    "from scipy import stats\n"
   ]
  },
  {
   "cell_type": "code",
   "execution_count": null,
   "metadata": {
    "collapsed": true
   },
   "outputs": [],
   "source": [
    "df = az_df[(np.abs(stats.zscore(az_df)) < 3).all(axis=1)]"
   ]
  },
  {
   "cell_type": "code",
   "execution_count": null,
   "metadata": {
    "collapsed": true
   },
   "outputs": [],
   "source": []
  },
  {
   "cell_type": "code",
   "execution_count": 254,
   "metadata": {
    "collapsed": false
   },
   "outputs": [
    {
     "name": "stdout",
     "output_type": "stream",
     "text": [
      "AZ 54000+ Listings\n"
     ]
    },
    {
     "data": {
      "image/png": "[encoded data removed]",
      "text/plain": [
       "<matplotlib.figure.Figure at 0x14b61bdd8>"
      ]
     },
     "metadata": {},
     "output_type": "display_data"
    }
   ],
   "source": [
    "pd.scatter_matrix(az_df[c], figsize=(13, 10))\n",
    "print('AZ 54000+ Listings')"
   ]
  },
  {
   "cell_type": "code",
   "execution_count": 257,
   "metadata": {
    "collapsed": false
   },
   "outputs": [],
   "source": [
    "az_df.to_csv('../../data/az_df.csv')"
   ]
  },
  {
   "cell_type": "code",
   "execution_count": 133,
   "metadata": {
    "collapsed": false
   },
   "outputs": [
    {
     "data": {
      "text/plain": [
       "Mesa          1647\n",
       "Gilbert        309\n",
       "Tempe          250\n",
       "Chandler        97\n",
       "Scottsdale      54\n",
       "Name: city, dtype: int64"
      ]
     },
     "execution_count": 133,
     "metadata": {},
     "output_type": "execute_result"
    }
   ],
   "source": [
    "mesa_df.city.value_counts()"
   ]
  },
  {
   "cell_type": "code",
   "execution_count": 218,
   "metadata": {
    "collapsed": false
   },
   "outputs": [
    {
     "data": {
      "text/plain": [
       "count        833\n",
       "unique       401\n",
       "top       160000\n",
       "freq          16\n",
       "Name: closePrice, dtype: float64"
      ]
     },
     "execution_count": 218,
     "metadata": {},
     "output_type": "execute_result"
    }
   ],
   "source": [
    "m = mesa_df.dropna(axis=1, how='all')"
   ]
  },
  {
   "cell_type": "code",
   "execution_count": 225,
   "metadata": {
    "collapsed": false
   },
   "outputs": [
    {
     "data": {
      "text/plain": [
       "count        833.000000\n",
       "mean      176221.392557\n",
       "std       103486.168275\n",
       "min        23500.000000\n",
       "25%       110000.000000\n",
       "50%       159900.000000\n",
       "75%       220000.000000\n",
       "max      1100000.000000\n",
       "Name: closePrice, dtype: float64"
      ]
     },
     "execution_count": 225,
     "metadata": {},
     "output_type": "execute_result"
    }
   ],
   "source": [
    "m.closePrice.dropna().astype(int).describe()"
   ]
  },
  {
   "cell_type": "code",
   "execution_count": 140,
   "metadata": {
    "collapsed": false
   },
   "outputs": [
    {
     "data": {
      "text/plain": [
       "0        NaN\n",
       "1        NaN\n",
       "2        NaN\n",
       "3        NaN\n",
       "4        NaN\n",
       "5        NaN\n",
       "6        NaN\n",
       "7        NaN\n",
       "8        NaN\n",
       "9        NaN\n",
       "10       NaN\n",
       "11       NaN\n",
       "12       NaN\n",
       "13       NaN\n",
       "14       NaN\n",
       "15       NaN\n",
       "16       NaN\n",
       "17       NaN\n",
       "18       NaN\n",
       "19       NaN\n",
       "20       NaN\n",
       "21       NaN\n",
       "22       NaN\n",
       "23       NaN\n",
       "24       NaN\n",
       "25       NaN\n",
       "26       NaN\n",
       "27       NaN\n",
       "28       NaN\n",
       "29       NaN\n",
       "       ...  \n",
       "27    -59000\n",
       "28   -132000\n",
       "29   -105000\n",
       "30   -135000\n",
       "31    -59900\n",
       "32    -59900\n",
       "33    -40900\n",
       "34    -70900\n",
       "35    -33000\n",
       "36   -124900\n",
       "37    -64900\n",
       "38     35630\n",
       "39    -58000\n",
       "40    -51900\n",
       "41    -34900\n",
       "42    -90000\n",
       "43    -34000\n",
       "44    -44999\n",
       "45    -70000\n",
       "46    -85000\n",
       "47   -555000\n",
       "48       NaN\n",
       "49    -38500\n",
       "50    -89900\n",
       "51       NaN\n",
       "52     -7900\n",
       "53    -10430\n",
       "54       NaN\n",
       "55     10100\n",
       "56      6500\n",
       "dtype: object"
      ]
     },
     "execution_count": 140,
     "metadata": {},
     "output_type": "execute_result"
    }
   ],
   "source": [
    "(mesa_df.closePrice - mesa_df.originalPrice)"
   ]
  },
  {
   "cell_type": "code",
   "execution_count": 187,
   "metadata": {
    "collapsed": false
   },
   "outputs": [],
   "source": [
    "dt = pd.DatetimeIndex(pd.to_datetime(mesa_df.listDate.astype('datetime64[s]'), infer_datetime_format=True).values)\n"
   ]
  },
  {
   "cell_type": "code",
   "execution_count": 193,
   "metadata": {
    "collapsed": false
   },
   "outputs": [
    {
     "data": {
      "text/plain": [
       "2005-03-17     1\n",
       "2005-03-18     0\n",
       "2005-03-19     0\n",
       "2005-03-20     0\n",
       "2005-03-21     0\n",
       "2005-03-22     0\n",
       "2005-03-23     0\n",
       "2005-03-24     0\n",
       "2005-03-25     0\n",
       "2005-03-26     0\n",
       "2005-03-27     0\n",
       "2005-03-28     0\n",
       "2005-03-29     0\n",
       "2005-03-30     0\n",
       "2005-03-31     0\n",
       "2005-04-01     0\n",
       "2005-04-02     0\n",
       "2005-04-03     0\n",
       "2005-04-04     0\n",
       "2005-04-05     1\n",
       "2005-04-06     0\n",
       "2005-04-07     0\n",
       "2005-04-08     0\n",
       "2005-04-09     0\n",
       "2005-04-10     0\n",
       "2005-04-11     0\n",
       "2005-04-12     0\n",
       "2005-04-13     0\n",
       "2005-04-14     0\n",
       "2005-04-15     0\n",
       "              ..\n",
       "2015-10-09    21\n",
       "2015-10-10     7\n",
       "2015-10-11    10\n",
       "2015-10-12    25\n",
       "2015-10-13     7\n",
       "2015-10-14    16\n",
       "2015-10-15    23\n",
       "2015-10-16    23\n",
       "2015-10-17     9\n",
       "2015-10-18     5\n",
       "2015-10-19     8\n",
       "2015-10-20    16\n",
       "2015-10-21    13\n",
       "2015-10-22    18\n",
       "2015-10-23    17\n",
       "2015-10-24    14\n",
       "2015-10-25     3\n",
       "2015-10-26    11\n",
       "2015-10-27    14\n",
       "2015-10-28    15\n",
       "2015-10-29    19\n",
       "2015-10-30    19\n",
       "2015-10-31    10\n",
       "2015-11-01     4\n",
       "2015-11-02    17\n",
       "2015-11-03    11\n",
       "2015-11-04    14\n",
       "2015-11-05    18\n",
       "2015-11-06    17\n",
       "2015-11-07     3\n",
       "Freq: D, dtype: float64"
      ]
     },
     "execution_count": 193,
     "metadata": {},
     "output_type": "execute_result"
    }
   ],
   "source": [
    "s = pd.Series(1, index=dt)\n",
    "s.resample('D', how='sum').fillna(0)"
   ]
  },
  {
   "cell_type": "code",
   "execution_count": 194,
   "metadata": {
    "collapsed": false,
    "scrolled": false
   },
   "outputs": [],
   "source": [
    "# s.resample('D', how='sum').plot()"
   ]
  },
  {
   "cell_type": "code",
   "execution_count": 198,
   "metadata": {
    "collapsed": false,
    "scrolled": true
   },
   "outputs": [
    {
     "data": {
      "text/plain": [
       "2005-03-17     1\n",
       "2005-03-18     0\n",
       "2005-03-19     0\n",
       "2005-03-20     0\n",
       "2005-03-21     0\n",
       "2005-03-22     0\n",
       "2005-03-23     0\n",
       "2005-03-24     0\n",
       "2005-03-25     0\n",
       "2005-03-26     0\n",
       "2005-03-27     0\n",
       "2005-03-28     0\n",
       "2005-03-29     0\n",
       "2005-03-30     0\n",
       "2005-03-31     0\n",
       "2005-04-01     0\n",
       "2005-04-02     0\n",
       "2005-04-03     0\n",
       "2005-04-04     0\n",
       "2005-04-05     1\n",
       "2005-04-06     0\n",
       "2005-04-07     0\n",
       "2005-04-08     0\n",
       "2005-04-09     0\n",
       "2005-04-10     0\n",
       "2005-04-11     0\n",
       "2005-04-12     0\n",
       "2005-04-13     0\n",
       "2005-04-14     0\n",
       "2005-04-15     0\n",
       "              ..\n",
       "2015-10-09    21\n",
       "2015-10-10     7\n",
       "2015-10-11    10\n",
       "2015-10-12    25\n",
       "2015-10-13     7\n",
       "2015-10-14    16\n",
       "2015-10-15    23\n",
       "2015-10-16    23\n",
       "2015-10-17     9\n",
       "2015-10-18     5\n",
       "2015-10-19     8\n",
       "2015-10-20    16\n",
       "2015-10-21    13\n",
       "2015-10-22    18\n",
       "2015-10-23    17\n",
       "2015-10-24    14\n",
       "2015-10-25     3\n",
       "2015-10-26    11\n",
       "2015-10-27    14\n",
       "2015-10-28    15\n",
       "2015-10-29    19\n",
       "2015-10-30    19\n",
       "2015-10-31    10\n",
       "2015-11-01     4\n",
       "2015-11-02    17\n",
       "2015-11-03    11\n",
       "2015-11-04    14\n",
       "2015-11-05    18\n",
       "2015-11-06    17\n",
       "2015-11-07     3\n",
       "Freq: D, dtype: float64"
      ]
     },
     "execution_count": 198,
     "metadata": {},
     "output_type": "execute_result"
    }
   ],
   "source": [
    "s.resample('D', how='sum').fillna(0)"
   ]
  },
  {
   "cell_type": "code",
   "execution_count": 122,
   "metadata": {
    "collapsed": true
   },
   "outputs": [
    {
     "data": {
      "text/html": [
       "<table border=\"1\" class=\"dataframe\">\n",
       "  <thead>\n",
       "    <tr style=\"text-align: right;\">\n",
       "      <th></th>\n",
       "      <th>0</th>\n",
       "    </tr>\n",
       "  </thead>\n",
       "  <tbody>\n",
       "    <tr>\n",
       "      <th>aboveGradeFinishedArea</th>\n",
       "      <td>None</td>\n",
       "    </tr>\n",
       "    <tr>\n",
       "      <th>accessibilityFeatures</th>\n",
       "      <td>None</td>\n",
       "    </tr>\n",
       "    <tr>\n",
       "      <th>acres</th>\n",
       "      <td>0.261157</td>\n",
       "    </tr>\n",
       "    <tr>\n",
       "      <th>additionalParcels</th>\n",
       "      <td>None</td>\n",
       "    </tr>\n",
       "    <tr>\n",
       "      <th>address</th>\n",
       "      <td>E 2339 NANCE Circle, Mesa AZ</td>\n",
       "    </tr>\n",
       "    <tr>\n",
       "      <th>agent</th>\n",
       "      <td>b8e73209730a0be146cfe877261d7ef9</td>\n",
       "    </tr>\n",
       "    <tr>\n",
       "      <th>appliances</th>\n",
       "      <td>None</td>\n",
       "    </tr>\n",
       "    <tr>\n",
       "      <th>baths</th>\n",
       "      <td>3</td>\n",
       "    </tr>\n",
       "    <tr>\n",
       "      <th>bedrooms</th>\n",
       "      <td>5</td>\n",
       "    </tr>\n",
       "    <tr>\n",
       "      <th>belowGradeFinishedArea</th>\n",
       "      <td>None</td>\n",
       "    </tr>\n",
       "    <tr>\n",
       "      <th>cancelationDate</th>\n",
       "      <td>None</td>\n",
       "    </tr>\n",
       "    <tr>\n",
       "      <th>carportSpaces</th>\n",
       "      <td>NaN</td>\n",
       "    </tr>\n",
       "    <tr>\n",
       "      <th>city</th>\n",
       "      <td>Mesa</td>\n",
       "    </tr>\n",
       "    <tr>\n",
       "      <th>closePrice</th>\n",
       "      <td>None</td>\n",
       "    </tr>\n",
       "    <tr>\n",
       "      <th>constructionMaterials</th>\n",
       "      <td>[Frame - Wood]</td>\n",
       "    </tr>\n",
       "    <tr>\n",
       "      <th>contingency</th>\n",
       "      <td>None</td>\n",
       "    </tr>\n",
       "    <tr>\n",
       "      <th>cooling</th>\n",
       "      <td>[Refrigeration]</td>\n",
       "    </tr>\n",
       "    <tr>\n",
       "      <th>coordinates</th>\n",
       "      <td>[-111.78005981445312, 33.46468734741211]</td>\n",
       "    </tr>\n",
       "    <tr>\n",
       "      <th>country</th>\n",
       "      <td>USA</td>\n",
       "    </tr>\n",
       "    <tr>\n",
       "      <th>county</th>\n",
       "      <td>Maricopa</td>\n",
       "    </tr>\n",
       "    <tr>\n",
       "      <th>dateListed</th>\n",
       "      <td>None</td>\n",
       "    </tr>\n",
       "    <tr>\n",
       "      <th>dateSold</th>\n",
       "      <td>None</td>\n",
       "    </tr>\n",
       "    <tr>\n",
       "      <th>daysOnMarket</th>\n",
       "      <td>NaN</td>\n",
       "    </tr>\n",
       "    <tr>\n",
       "      <th>disclosures</th>\n",
       "      <td>[Seller Disc Avail]</td>\n",
       "    </tr>\n",
       "    <tr>\n",
       "      <th>distanceFrom</th>\n",
       "      <td>4.4343</td>\n",
       "    </tr>\n",
       "    <tr>\n",
       "      <th>expirationDate</th>\n",
       "      <td>2016-05-06T00:00:00.000Z</td>\n",
       "    </tr>\n",
       "    <tr>\n",
       "      <th>exteriorFeatures</th>\n",
       "      <td>[Covered Patio(s)]</td>\n",
       "    </tr>\n",
       "    <tr>\n",
       "      <th>financialDataSource</th>\n",
       "      <td>None</td>\n",
       "    </tr>\n",
       "    <tr>\n",
       "      <th>fireplaceFeatures</th>\n",
       "      <td>[2 Fireplace, Fireplace Family Rm, Fireplace M...</td>\n",
       "    </tr>\n",
       "    <tr>\n",
       "      <th>fireplaces</th>\n",
       "      <td>None</td>\n",
       "    </tr>\n",
       "    <tr>\n",
       "      <th>flooring</th>\n",
       "      <td>[Carpet, Stone, Wood]</td>\n",
       "    </tr>\n",
       "    <tr>\n",
       "      <th>foundationDetails</th>\n",
       "      <td>None</td>\n",
       "    </tr>\n",
       "    <tr>\n",
       "      <th>frontageLength</th>\n",
       "      <td>None</td>\n",
       "    </tr>\n",
       "    <tr>\n",
       "      <th>garageSpaces</th>\n",
       "      <td>3</td>\n",
       "    </tr>\n",
       "    <tr>\n",
       "      <th>gas</th>\n",
       "      <td>None</td>\n",
       "    </tr>\n",
       "    <tr>\n",
       "      <th>halfBaths</th>\n",
       "      <td>None</td>\n",
       "    </tr>\n",
       "    <tr>\n",
       "      <th>heating</th>\n",
       "      <td>[Electric Heat, Gas Heat]</td>\n",
       "    </tr>\n",
       "    <tr>\n",
       "      <th>id</th>\n",
       "      <td>8af478a34e084f97eaf506cc2abf5ea2</td>\n",
       "    </tr>\n",
       "    <tr>\n",
       "      <th>lastModified</th>\n",
       "      <td>2015-11-07T13:09:41.964Z</td>\n",
       "    </tr>\n",
       "    <tr>\n",
       "      <th>laundry</th>\n",
       "      <td>[Inside Laundry]</td>\n",
       "    </tr>\n",
       "    <tr>\n",
       "      <th>listDate</th>\n",
       "      <td>2015-11-07T00:00:00.000Z</td>\n",
       "    </tr>\n",
       "    <tr>\n",
       "      <th>livingArea</th>\n",
       "      <td>2774</td>\n",
       "    </tr>\n",
       "    <tr>\n",
       "      <th>media</th>\n",
       "      <td>[{'index': 1, 'shortDescription': 'DSC_8066[1]...</td>\n",
       "    </tr>\n",
       "    <tr>\n",
       "      <th>mlsAgentID</th>\n",
       "      <td>20071208002334986175000000</td>\n",
       "    </tr>\n",
       "    <tr>\n",
       "      <th>mlsListingID</th>\n",
       "      <td>20151106173543822922000000</td>\n",
       "    </tr>\n",
       "    <tr>\n",
       "      <th>mlsOfficeID</th>\n",
       "      <td>20071206231800996089000000</td>\n",
       "    </tr>\n",
       "    <tr>\n",
       "      <th>occupantType</th>\n",
       "      <td>None</td>\n",
       "    </tr>\n",
       "    <tr>\n",
       "      <th>office</th>\n",
       "      <td>cd1dece2493fef67cfd7dfeb0756848f</td>\n",
       "    </tr>\n",
       "    <tr>\n",
       "      <th>openParking</th>\n",
       "      <td>None</td>\n",
       "    </tr>\n",
       "    <tr>\n",
       "      <th>originalPrice</th>\n",
       "      <td>425000</td>\n",
       "    </tr>\n",
       "    <tr>\n",
       "      <th>ownership</th>\n",
       "      <td>Fee Simple</td>\n",
       "    </tr>\n",
       "    <tr>\n",
       "      <th>parcelNumber</th>\n",
       "      <td>None</td>\n",
       "    </tr>\n",
       "    <tr>\n",
       "      <th>pool</th>\n",
       "      <td>None</td>\n",
       "    </tr>\n",
       "    <tr>\n",
       "      <th>poolFeatures</th>\n",
       "      <td>[Private Only]</td>\n",
       "    </tr>\n",
       "    <tr>\n",
       "      <th>poolPrivate</th>\n",
       "      <td>None</td>\n",
       "    </tr>\n",
       "    <tr>\n",
       "      <th>possession</th>\n",
       "      <td>[Close of Escrow]</td>\n",
       "    </tr>\n",
       "    <tr>\n",
       "      <th>previousPrice</th>\n",
       "      <td>None</td>\n",
       "    </tr>\n",
       "    <tr>\n",
       "      <th>price</th>\n",
       "      <td>425000</td>\n",
       "    </tr>\n",
       "    <tr>\n",
       "      <th>privateRemarks</th>\n",
       "      <td>Call or text owner to show. Please use America...</td>\n",
       "    </tr>\n",
       "    <tr>\n",
       "      <th>publicRemarks</th>\n",
       "      <td>Move in ready and priced to sell located in an...</td>\n",
       "    </tr>\n",
       "    <tr>\n",
       "      <th>roadSurface</th>\n",
       "      <td>None</td>\n",
       "    </tr>\n",
       "    <tr>\n",
       "      <th>roof</th>\n",
       "      <td>All Tile</td>\n",
       "    </tr>\n",
       "    <tr>\n",
       "      <th>roomsTotal</th>\n",
       "      <td>None</td>\n",
       "    </tr>\n",
       "    <tr>\n",
       "      <th>sewer</th>\n",
       "      <td>[Sewer - Public]</td>\n",
       "    </tr>\n",
       "    <tr>\n",
       "      <th>squareFootage</th>\n",
       "      <td>11376</td>\n",
       "    </tr>\n",
       "    <tr>\n",
       "      <th>state</th>\n",
       "      <td>AZ</td>\n",
       "    </tr>\n",
       "    <tr>\n",
       "      <th>status</th>\n",
       "      <td>Active</td>\n",
       "    </tr>\n",
       "    <tr>\n",
       "      <th>statusChange</th>\n",
       "      <td>None</td>\n",
       "    </tr>\n",
       "    <tr>\n",
       "      <th>stories</th>\n",
       "      <td>1</td>\n",
       "    </tr>\n",
       "    <tr>\n",
       "      <th>storiesTotal</th>\n",
       "      <td>1</td>\n",
       "    </tr>\n",
       "    <tr>\n",
       "      <th>streetName</th>\n",
       "      <td>NANCE</td>\n",
       "    </tr>\n",
       "    <tr>\n",
       "      <th>streetNumber</th>\n",
       "      <td>2339</td>\n",
       "    </tr>\n",
       "    <tr>\n",
       "      <th>subdivision</th>\n",
       "      <td>2384.00</td>\n",
       "    </tr>\n",
       "    <tr>\n",
       "      <th>subtype</th>\n",
       "      <td>Single Family Residence</td>\n",
       "    </tr>\n",
       "    <tr>\n",
       "      <th>taxAnnual</th>\n",
       "      <td>2384</td>\n",
       "    </tr>\n",
       "    <tr>\n",
       "      <th>taxAssessedValue</th>\n",
       "      <td>None</td>\n",
       "    </tr>\n",
       "    <tr>\n",
       "      <th>taxStatus</th>\n",
       "      <td>None</td>\n",
       "    </tr>\n",
       "    <tr>\n",
       "      <th>taxYear</th>\n",
       "      <td>2015</td>\n",
       "    </tr>\n",
       "    <tr>\n",
       "      <th>telephoneService</th>\n",
       "      <td>None</td>\n",
       "    </tr>\n",
       "    <tr>\n",
       "      <th>termsOfSale</th>\n",
       "      <td>None</td>\n",
       "    </tr>\n",
       "    <tr>\n",
       "      <th>type</th>\n",
       "      <td>Detached</td>\n",
       "    </tr>\n",
       "    <tr>\n",
       "      <th>unitNumber</th>\n",
       "      <td>None</td>\n",
       "    </tr>\n",
       "    <tr>\n",
       "      <th>unitsInBuilding</th>\n",
       "      <td>None</td>\n",
       "    </tr>\n",
       "    <tr>\n",
       "      <th>url</th>\n",
       "      <td>https://rets.io/api/v1/armls/listings/8af478a3...</td>\n",
       "    </tr>\n",
       "    <tr>\n",
       "      <th>view</th>\n",
       "      <td>None</td>\n",
       "    </tr>\n",
       "    <tr>\n",
       "      <th>waterSource</th>\n",
       "      <td>[City Water]</td>\n",
       "    </tr>\n",
       "    <tr>\n",
       "      <th>waterfront</th>\n",
       "      <td>None</td>\n",
       "    </tr>\n",
       "    <tr>\n",
       "      <th>yearBuilt</th>\n",
       "      <td>1993</td>\n",
       "    </tr>\n",
       "    <tr>\n",
       "      <th>yearBuiltDetails</th>\n",
       "      <td>None</td>\n",
       "    </tr>\n",
       "    <tr>\n",
       "      <th>zipCode</th>\n",
       "      <td>85213</td>\n",
       "    </tr>\n",
       "    <tr>\n",
       "      <th>zoning</th>\n",
       "      <td>None</td>\n",
       "    </tr>\n",
       "    <tr>\n",
       "      <th>zoningDescription</th>\n",
       "      <td>None</td>\n",
       "    </tr>\n",
       "  </tbody>\n",
       "</table>"
      ],
      "text/plain": [
       "<IPython.core.display.HTML object>"
      ]
     },
     "execution_count": 122,
     "metadata": {},
     "output_type": "execute_result"
    }
   ],
   "source": [
    "from IPython.display import HTML\n",
    "HTML(mesa_df.head(1).T.to_html())"
   ]
  },
  {
   "cell_type": "code",
   "execution_count": null,
   "metadata": {
    "collapsed": true
   },
   "outputs": [],
   "source": []
  }
 ],
 "metadata": {
  "kernelspec": {
   "display_name": "Python 3",
   "language": "python",
   "name": "python3"
  },
  "language_info": {
   "codemirror_mode": {
    "name": "ipython",
    "version": 3
   },
   "file_extension": ".py",
   "mimetype": "text/x-python",
   "name": "python",
   "nbconvert_exporter": "python",
   "pygments_lexer": "ipython3",
   "version": "3.5.0"
  }
 },
 "nbformat": 4,
 "nbformat_minor": 0
}
