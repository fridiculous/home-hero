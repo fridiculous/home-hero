{
 "cells": [
  {
   "cell_type": "code",
   "execution_count": 1,
   "metadata": {
    "collapsed": false
   },
   "outputs": [],
   "source": [
    "import pandas as pd\n",
    "import json\n",
    "\n",
    "%matplotlib inline\n",
    "%load_ext autoreload\n",
    "%autoreload"
   ]
  },
  {
   "cell_type": "code",
   "execution_count": 2,
   "metadata": {
    "collapsed": false
   },
   "outputs": [],
   "source": [
    "from approved_venders import get_approved_venders, get_arizona_listings\n",
    "from approved_venders import get_listings_near, batch_listings_near, batch_arizona_listings"
   ]
  },
  {
   "cell_type": "code",
   "execution_count": 3,
   "metadata": {
    "collapsed": true
   },
   "outputs": [],
   "source": [
    "import matplotlib.pyplot as plt\n",
    "import numpy as np\n",
    "from scipy import stats\n",
    "import matplotlib\n",
    "matplotlib.style.use('ggplot')"
   ]
  },
  {
   "cell_type": "markdown",
   "metadata": {},
   "source": [
    "### vender information"
   ]
  },
  {
   "cell_type": "code",
   "execution_count": null,
   "metadata": {
    "collapsed": false
   },
   "outputs": [],
   "source": [
    "venders = pd.DataFrame(json.loads(get_approved_venders())['bundle'])\n",
    "venders.to_csv('../../data/Approved_Vendors.csv')"
   ]
  },
  {
   "cell_type": "code",
   "execution_count": null,
   "metadata": {
    "collapsed": false
   },
   "outputs": [],
   "source": [
    "venders.activeListings.describe()"
   ]
  },
  {
   "cell_type": "code",
   "execution_count": null,
   "metadata": {
    "collapsed": false
   },
   "outputs": [],
   "source": [
    "mesa_df = pd.DataFrame(json.loads(get_listings_near(offset=0))['bundle'])\n",
    "#venders.to_csv('../../data/Approved_Vendors.csv')"
   ]
  },
  {
   "cell_type": "code",
   "execution_count": null,
   "metadata": {
    "collapsed": true
   },
   "outputs": [],
   "source": [
    "mesa_list = batch_listings_near()\n",
    "mesa_df = pd.concat(mesa_list, axis=0)\n",
    "mesa_df.to_csv('../../data/city_mesa_df.csv')"
   ]
  },
  {
   "cell_type": "code",
   "execution_count": null,
   "metadata": {
    "collapsed": true
   },
   "outputs": [],
   "source": [
    "phoenix_list = get_arizona_listings(\"phoenix\")\n",
    "phoenix_df = pd.concat(phoenix_list, axis=0)\n",
    "phoenix_df.to_csv('../../data/city_phoenix_df.csv')"
   ]
  },
  {
   "cell_type": "markdown",
   "metadata": {},
   "source": [
    "### Get AZ Listings"
   ]
  },
  {
   "cell_type": "code",
   "execution_count": null,
   "metadata": {
    "collapsed": false
   },
   "outputs": [],
   "source": [
    "az_list = batch_arizona_listings()\n",
    "az_df = pd.concat(az_list2, axis=0)\n",
    "az_df.to_csv('../../data/az_df.csv')"
   ]
  },
  {
   "cell_type": "markdown",
   "metadata": {},
   "source": [
    "### generate fake data"
   ]
  },
  {
   "cell_type": "code",
   "execution_count": 23,
   "metadata": {
    "collapsed": true
   },
   "outputs": [],
   "source": [
    "from IPython.display import HTML"
   ]
  },
  {
   "cell_type": "code",
   "execution_count": 10,
   "metadata": {
    "collapsed": true
   },
   "outputs": [],
   "source": [
    "phoenix_df = pd.read_csv('../../data/city_phoenix_df.csv', index_col=0)"
   ]
  },
  {
   "cell_type": "code",
   "execution_count": 13,
   "metadata": {
    "collapsed": false
   },
   "outputs": [
    {
     "data": {
      "text/plain": [
       "Phoenix       2388\n",
       "Mesa            81\n",
       "Tempe            9\n",
       "Gilbert          6\n",
       "Scottsdale       3\n",
       "Chandler         1\n",
       "Name: city, dtype: int64"
      ]
     },
     "execution_count": 13,
     "metadata": {},
     "output_type": "execute_result"
    }
   ],
   "source": [
    "phoenix_df.city.value_counts()"
   ]
  },
  {
   "cell_type": "code",
   "execution_count": 38,
   "metadata": {
    "collapsed": false
   },
   "outputs": [],
   "source": [
    "zip_avg_df = phoenix_df.groupby('zipCode').price.describe()"
   ]
  },
  {
   "cell_type": "code",
   "execution_count": 29,
   "metadata": {
    "collapsed": false
   },
   "outputs": [],
   "source": [
    "phoenix_df = phoenix_df.drop_duplicates()"
   ]
  },
  {
   "cell_type": "code",
   "execution_count": 67,
   "metadata": {
    "collapsed": true
   },
   "outputs": [],
   "source": [
    "cols = [\n",
    "    'mlsListingID',\n",
    "    'listDate',\n",
    "    'bedrooms',\n",
    "    'baths',\n",
    "    'squareFootage',\n",
    "    'price'\n",
    "]\n",
    "\n",
    "cols = ['price', 'bedrooms']"
   ]
  },
  {
   "cell_type": "code",
   "execution_count": 74,
   "metadata": {
    "collapsed": false
   },
   "outputs": [],
   "source": [
    "ind = (phoenix_df.bedrooms <= 5)"
   ]
  },
  {
   "cell_type": "code",
   "execution_count": 76,
   "metadata": {
    "collapsed": false
   },
   "outputs": [],
   "source": [
    "p_df = phoenix_df[ind].groupby('bedrooms').price.describe().unstack().reset_index()"
   ]
  },
  {
   "cell_type": "code",
   "execution_count": 77,
   "metadata": {
    "collapsed": false
   },
   "outputs": [],
   "source": [
    "final_df = pd.merge(phoenix_df[cols], p_df, left_on='bedrooms', right_on='bedrooms', suffixes=['','_agg'], how='inner')"
   ]
  },
  {
   "cell_type": "code",
   "execution_count": 78,
   "metadata": {
    "collapsed": false
   },
   "outputs": [],
   "source": [
    "final_df['job_value'] = (final_df['75%'] - final_df.price)/2."
   ]
  },
  {
   "cell_type": "code",
   "execution_count": 81,
   "metadata": {
    "collapsed": false
   },
   "outputs": [],
   "source": [
    "final_df = final_df.sort_values(by='job_value', ascending=False)"
   ]
  },
  {
   "cell_type": "code",
   "execution_count": 104,
   "metadata": {
    "collapsed": false
   },
   "outputs": [
    {
     "data": {
      "text/html": [
       "<div>\n",
       "<table border=\"1\" class=\"dataframe\">\n",
       "  <thead>\n",
       "    <tr style=\"text-align: right;\">\n",
       "      <th>subtype</th>\n",
       "      <th>Apartment</th>\n",
       "      <th>Condominium</th>\n",
       "      <th>Duplex</th>\n",
       "      <th>Mobile Home</th>\n",
       "      <th>Single Family - Detached</th>\n",
       "      <th>Single Family Residence</th>\n",
       "      <th>Townhouse</th>\n",
       "    </tr>\n",
       "    <tr>\n",
       "      <th>ownership</th>\n",
       "      <th></th>\n",
       "      <th></th>\n",
       "      <th></th>\n",
       "      <th></th>\n",
       "      <th></th>\n",
       "      <th></th>\n",
       "      <th></th>\n",
       "    </tr>\n",
       "  </thead>\n",
       "  <tbody>\n",
       "    <tr>\n",
       "      <th>Co-Operative</th>\n",
       "      <td>9</td>\n",
       "      <td>1</td>\n",
       "      <td>0</td>\n",
       "      <td>0</td>\n",
       "      <td>0</td>\n",
       "      <td>0</td>\n",
       "      <td>2</td>\n",
       "    </tr>\n",
       "    <tr>\n",
       "      <th>Condominium</th>\n",
       "      <td>195</td>\n",
       "      <td>28</td>\n",
       "      <td>0</td>\n",
       "      <td>0</td>\n",
       "      <td>0</td>\n",
       "      <td>2</td>\n",
       "      <td>74</td>\n",
       "    </tr>\n",
       "    <tr>\n",
       "      <th>Fee Simple</th>\n",
       "      <td>99</td>\n",
       "      <td>15</td>\n",
       "      <td>4</td>\n",
       "      <td>3</td>\n",
       "      <td>1</td>\n",
       "      <td>1791</td>\n",
       "      <td>205</td>\n",
       "    </tr>\n",
       "    <tr>\n",
       "      <th>Leasehold</th>\n",
       "      <td>1</td>\n",
       "      <td>0</td>\n",
       "      <td>0</td>\n",
       "      <td>0</td>\n",
       "      <td>0</td>\n",
       "      <td>2</td>\n",
       "      <td>3</td>\n",
       "    </tr>\n",
       "  </tbody>\n",
       "</table>\n",
       "</div>"
      ],
      "text/plain": [
       "subtype       Apartment  Condominium  Duplex  Mobile Home  \\\n",
       "ownership                                                   \n",
       "Co-Operative          9            1       0            0   \n",
       "Condominium         195           28       0            0   \n",
       "Fee Simple           99           15       4            3   \n",
       "Leasehold             1            0       0            0   \n",
       "\n",
       "subtype       Single Family - Detached  Single Family Residence  Townhouse  \n",
       "ownership                                                                   \n",
       "Co-Operative                         0                        0          2  \n",
       "Condominium                          0                        2         74  \n",
       "Fee Simple                           1                     1791        205  \n",
       "Leasehold                            0                        2          3  "
      ]
     },
     "execution_count": 104,
     "metadata": {},
     "output_type": "execute_result"
    }
   ],
   "source": [
    "pd.crosstab(phoenix_df[ind].ownership, phoenix_df[ind].subtype)"
   ]
  },
  {
   "cell_type": "code",
   "execution_count": 100,
   "metadata": {
    "collapsed": false
   },
   "outputs": [
    {
     "data": {
      "text/plain": [
       "Fee Simple      2118\n",
       "Condominium      299\n",
       "Co-Operative      12\n",
       "Leasehold          6\n",
       "Name: ownership, dtype: int64"
      ]
     },
     "execution_count": 100,
     "metadata": {},
     "output_type": "execute_result"
    }
   ],
   "source": [
    "phoenix_df[ind].ownership.value_counts()"
   ]
  },
  {
   "cell_type": "code",
   "execution_count": 97,
   "metadata": {
    "collapsed": false
   },
   "outputs": [
    {
     "data": {
      "text/plain": [
       "Index(['subtype', 'type'], dtype='object')"
      ]
     },
     "execution_count": 97,
     "metadata": {},
     "output_type": "execute_result"
    }
   ],
   "source": [
    "phoenix_df.columns[pd.Series(['type' in k for k in phoenix_df[ind].columns])]"
   ]
  },
  {
   "cell_type": "code",
   "execution_count": 106,
   "metadata": {
    "collapsed": false
   },
   "outputs": [
    {
     "data": {
      "text/plain": [
       "['Frame - Wood']                                                       958\n",
       "['Block']                                                              833\n",
       "['Brick']                                                              226\n",
       "['Block', 'Frame - Wood']                                              149\n",
       "['Frame - Metal']                                                       79\n",
       "['Other (See Remarks)']                                                 47\n",
       "['Block', 'Brick']                                                      29\n",
       "['Brick', 'Frame - Wood']                                               25\n",
       "['Slump Block']                                                         23\n",
       "['Block', 'Brick', 'Frame - Wood']                                      12\n",
       "['Adobe']                                                               11\n",
       "['Block', 'Other (See Remarks)']                                         6\n",
       "['Block', 'Frame - Metal']                                               6\n",
       "['Frame - Metal', 'Frame - Wood']                                        4\n",
       "['Blown Cellulose', 'Frame - Wood']                                      4\n",
       "['Frame - Wood', 'Other (See Remarks)', 'Spray Foam Insulatn']           4\n",
       "['Frame - Metal', 'Other (See Remarks)']                                 4\n",
       "['Adobe', 'Block']                                                       4\n",
       "['Block', 'Blown Cellulose']                                             3\n",
       "['Frame - Wood', 'Slump Block']                                          3\n",
       "['Frame - Wood', 'Other (See Remarks)']                                  2\n",
       "['Adobe', 'Brick']                                                       2\n",
       "['Adobe', 'Frame - Wood']                                                2\n",
       "['Brick', 'Other (See Remarks)']                                         2\n",
       "['Brick', 'Frame - Metal']                                               2\n",
       "['Frame - Wood', 'Spray Foam Insulatn']                                  2\n",
       "['Block', 'Slump Block']                                                 1\n",
       "['Block', 'Frame - Metal', 'Slump Block']                                1\n",
       "['Adobe', 'Other (See Remarks)']                                         1\n",
       "['Brick', 'Spray Foam Insulatn']                                         1\n",
       "['Block', 'Blown Cellulose', 'Frame - Wood']                             1\n",
       "['Block', 'Blown Cellulose', 'Frame - Wood', 'Other (See Remarks)']      1\n",
       "['Brick', 'Frame - Metal', 'Slump Block']                                1\n",
       "['Block', 'Blown Cellulose', 'Brick', 'Frame - Wood']                    1\n",
       "['Block', 'Frame - Wood', 'Other (See Remarks)', 'Slump Block']          1\n",
       "['Brick', 'Frame - Metal', 'Frame - Wood', 'Other (See Remarks)']        1\n",
       "['Block', 'Frame - Wood', 'Other (See Remarks)']                         1\n",
       "['Block', 'Frame - Wood', 'Slump Block']                                 1\n",
       "['Block', 'Brick', 'Frame - Metal']                                      1\n",
       "['Block', 'Frame - Metal', 'Other (See Remarks)']                        1\n",
       "Name: constructionMaterials, dtype: int64"
      ]
     },
     "execution_count": 106,
     "metadata": {},
     "output_type": "execute_result"
    }
   ],
   "source": [
    "phoenix_df.constructionMaterials.value_counts()"
   ]
  },
  {
   "cell_type": "code",
   "execution_count": 109,
   "metadata": {
    "collapsed": false
   },
   "outputs": [],
   "source": [
    "final_df.T.to_json(path_or_buf='../../data/phoenix.json')"
   ]
  },
  {
   "cell_type": "code",
   "execution_count": 66,
   "metadata": {
    "collapsed": false
   },
   "outputs": [
    {
     "data": {
      "text/plain": [
       "array([[<matplotlib.axes._subplots.AxesSubplot object at 0x10f803080>,\n",
       "        <matplotlib.axes._subplots.AxesSubplot object at 0x10fe297b8>],\n",
       "       [<matplotlib.axes._subplots.AxesSubplot object at 0x10fe72eb8>,\n",
       "        <matplotlib.axes._subplots.AxesSubplot object at 0x10feacda0>]], dtype=object)"
      ]
     },
     "execution_count": 66,
     "metadata": {},
     "output_type": "execute_result"
    },
    {
     "data": {
      "image/png": "[encoded data removed]",
      "text/plain": [
       "<matplotlib.figure.Figure at 0x10f81c518>"
      ]
     },
     "metadata": {},
     "output_type": "display_data"
    }
   ],
   "source": [
    "pd.scatter_matrix(final_df[['bedrooms', 'job_value']])"
   ]
  },
  {
   "cell_type": "code",
   "execution_count": 24,
   "metadata": {
    "collapsed": false,
    "scrolled": false
   },
   "outputs": [
    {
     "data": {
      "text/html": [
       "<table border=\"1\" class=\"dataframe\">\n",
       "  <thead>\n",
       "    <tr style=\"text-align: right;\">\n",
       "      <th></th>\n",
       "      <th>0</th>\n",
       "    </tr>\n",
       "  </thead>\n",
       "  <tbody>\n",
       "    <tr>\n",
       "      <th>aboveGradeFinishedArea</th>\n",
       "      <td>NaN</td>\n",
       "    </tr>\n",
       "    <tr>\n",
       "      <th>accessibilityFeatures</th>\n",
       "      <td>NaN</td>\n",
       "    </tr>\n",
       "    <tr>\n",
       "      <th>acres</th>\n",
       "      <td>0.261157</td>\n",
       "    </tr>\n",
       "    <tr>\n",
       "      <th>additionalParcels</th>\n",
       "      <td>NaN</td>\n",
       "    </tr>\n",
       "    <tr>\n",
       "      <th>address</th>\n",
       "      <td>E 2339 NANCE Circle, Mesa AZ</td>\n",
       "    </tr>\n",
       "    <tr>\n",
       "      <th>agent</th>\n",
       "      <td>b8e73209730a0be146cfe877261d7ef9</td>\n",
       "    </tr>\n",
       "    <tr>\n",
       "      <th>appliances</th>\n",
       "      <td>NaN</td>\n",
       "    </tr>\n",
       "    <tr>\n",
       "      <th>baths</th>\n",
       "      <td>3</td>\n",
       "    </tr>\n",
       "    <tr>\n",
       "      <th>bedrooms</th>\n",
       "      <td>5</td>\n",
       "    </tr>\n",
       "    <tr>\n",
       "      <th>belowGradeFinishedArea</th>\n",
       "      <td>NaN</td>\n",
       "    </tr>\n",
       "    <tr>\n",
       "      <th>cancelationDate</th>\n",
       "      <td>NaN</td>\n",
       "    </tr>\n",
       "    <tr>\n",
       "      <th>carportSpaces</th>\n",
       "      <td>NaN</td>\n",
       "    </tr>\n",
       "    <tr>\n",
       "      <th>city</th>\n",
       "      <td>Mesa</td>\n",
       "    </tr>\n",
       "    <tr>\n",
       "      <th>closePrice</th>\n",
       "      <td>NaN</td>\n",
       "    </tr>\n",
       "    <tr>\n",
       "      <th>constructionMaterials</th>\n",
       "      <td>['Frame - Wood']</td>\n",
       "    </tr>\n",
       "    <tr>\n",
       "      <th>contingency</th>\n",
       "      <td>NaN</td>\n",
       "    </tr>\n",
       "    <tr>\n",
       "      <th>cooling</th>\n",
       "      <td>['Refrigeration']</td>\n",
       "    </tr>\n",
       "    <tr>\n",
       "      <th>coordinates</th>\n",
       "      <td>[-111.78005981445312, 33.46468734741211]</td>\n",
       "    </tr>\n",
       "    <tr>\n",
       "      <th>country</th>\n",
       "      <td>USA</td>\n",
       "    </tr>\n",
       "    <tr>\n",
       "      <th>county</th>\n",
       "      <td>Maricopa</td>\n",
       "    </tr>\n",
       "    <tr>\n",
       "      <th>dateListed</th>\n",
       "      <td>NaN</td>\n",
       "    </tr>\n",
       "    <tr>\n",
       "      <th>dateSold</th>\n",
       "      <td>NaN</td>\n",
       "    </tr>\n",
       "    <tr>\n",
       "      <th>daysOnMarket</th>\n",
       "      <td>NaN</td>\n",
       "    </tr>\n",
       "    <tr>\n",
       "      <th>disclosures</th>\n",
       "      <td>['Seller Disc Avail']</td>\n",
       "    </tr>\n",
       "    <tr>\n",
       "      <th>distanceFrom</th>\n",
       "      <td>4.4343</td>\n",
       "    </tr>\n",
       "    <tr>\n",
       "      <th>expirationDate</th>\n",
       "      <td>2016-05-06T00:00:00.000Z</td>\n",
       "    </tr>\n",
       "    <tr>\n",
       "      <th>exteriorFeatures</th>\n",
       "      <td>['Covered Patio(s)']</td>\n",
       "    </tr>\n",
       "    <tr>\n",
       "      <th>financialDataSource</th>\n",
       "      <td>NaN</td>\n",
       "    </tr>\n",
       "    <tr>\n",
       "      <th>fireplaceFeatures</th>\n",
       "      <td>['2 Fireplace', 'Fireplace Family Rm', 'Firepl...</td>\n",
       "    </tr>\n",
       "    <tr>\n",
       "      <th>fireplaces</th>\n",
       "      <td>NaN</td>\n",
       "    </tr>\n",
       "    <tr>\n",
       "      <th>flooring</th>\n",
       "      <td>['Carpet', 'Stone', 'Wood']</td>\n",
       "    </tr>\n",
       "    <tr>\n",
       "      <th>foundationDetails</th>\n",
       "      <td>NaN</td>\n",
       "    </tr>\n",
       "    <tr>\n",
       "      <th>frontageLength</th>\n",
       "      <td>NaN</td>\n",
       "    </tr>\n",
       "    <tr>\n",
       "      <th>garageSpaces</th>\n",
       "      <td>3</td>\n",
       "    </tr>\n",
       "    <tr>\n",
       "      <th>gas</th>\n",
       "      <td>NaN</td>\n",
       "    </tr>\n",
       "    <tr>\n",
       "      <th>halfBaths</th>\n",
       "      <td>NaN</td>\n",
       "    </tr>\n",
       "    <tr>\n",
       "      <th>heating</th>\n",
       "      <td>['Electric Heat', 'Gas Heat']</td>\n",
       "    </tr>\n",
       "    <tr>\n",
       "      <th>id</th>\n",
       "      <td>8af478a34e084f97eaf506cc2abf5ea2</td>\n",
       "    </tr>\n",
       "    <tr>\n",
       "      <th>lastModified</th>\n",
       "      <td>2015-11-07T13:09:41.964Z</td>\n",
       "    </tr>\n",
       "    <tr>\n",
       "      <th>laundry</th>\n",
       "      <td>['Inside Laundry']</td>\n",
       "    </tr>\n",
       "    <tr>\n",
       "      <th>listDate</th>\n",
       "      <td>2015-11-07T00:00:00.000Z</td>\n",
       "    </tr>\n",
       "    <tr>\n",
       "      <th>livingArea</th>\n",
       "      <td>2774</td>\n",
       "    </tr>\n",
       "    <tr>\n",
       "      <th>media</th>\n",
       "      <td>[{'index': 1, 'shortDescription': 'DSC_8066[1]...</td>\n",
       "    </tr>\n",
       "    <tr>\n",
       "      <th>mlsAgentID</th>\n",
       "      <td>20071208002334986175000000</td>\n",
       "    </tr>\n",
       "    <tr>\n",
       "      <th>mlsListingID</th>\n",
       "      <td>20151106173543822922000000</td>\n",
       "    </tr>\n",
       "    <tr>\n",
       "      <th>mlsOfficeID</th>\n",
       "      <td>20071206231800996089000000</td>\n",
       "    </tr>\n",
       "    <tr>\n",
       "      <th>occupantType</th>\n",
       "      <td>NaN</td>\n",
       "    </tr>\n",
       "    <tr>\n",
       "      <th>office</th>\n",
       "      <td>cd1dece2493fef67cfd7dfeb0756848f</td>\n",
       "    </tr>\n",
       "    <tr>\n",
       "      <th>openParking</th>\n",
       "      <td>NaN</td>\n",
       "    </tr>\n",
       "    <tr>\n",
       "      <th>originalPrice</th>\n",
       "      <td>425000</td>\n",
       "    </tr>\n",
       "    <tr>\n",
       "      <th>ownership</th>\n",
       "      <td>Fee Simple</td>\n",
       "    </tr>\n",
       "    <tr>\n",
       "      <th>parcelNumber</th>\n",
       "      <td>NaN</td>\n",
       "    </tr>\n",
       "    <tr>\n",
       "      <th>pool</th>\n",
       "      <td>NaN</td>\n",
       "    </tr>\n",
       "    <tr>\n",
       "      <th>poolFeatures</th>\n",
       "      <td>['Private Only']</td>\n",
       "    </tr>\n",
       "    <tr>\n",
       "      <th>poolPrivate</th>\n",
       "      <td>NaN</td>\n",
       "    </tr>\n",
       "    <tr>\n",
       "      <th>possession</th>\n",
       "      <td>['Close of Escrow']</td>\n",
       "    </tr>\n",
       "    <tr>\n",
       "      <th>previousPrice</th>\n",
       "      <td>NaN</td>\n",
       "    </tr>\n",
       "    <tr>\n",
       "      <th>price</th>\n",
       "      <td>425000</td>\n",
       "    </tr>\n",
       "    <tr>\n",
       "      <th>privateRemarks</th>\n",
       "      <td>Call or text owner to show. Please use America...</td>\n",
       "    </tr>\n",
       "    <tr>\n",
       "      <th>publicRemarks</th>\n",
       "      <td>Move in ready and priced to sell located in an...</td>\n",
       "    </tr>\n",
       "    <tr>\n",
       "      <th>roadSurface</th>\n",
       "      <td>NaN</td>\n",
       "    </tr>\n",
       "    <tr>\n",
       "      <th>roof</th>\n",
       "      <td>All Tile</td>\n",
       "    </tr>\n",
       "    <tr>\n",
       "      <th>roomsTotal</th>\n",
       "      <td>NaN</td>\n",
       "    </tr>\n",
       "    <tr>\n",
       "      <th>sewer</th>\n",
       "      <td>['Sewer - Public']</td>\n",
       "    </tr>\n",
       "    <tr>\n",
       "      <th>squareFootage</th>\n",
       "      <td>11376</td>\n",
       "    </tr>\n",
       "    <tr>\n",
       "      <th>state</th>\n",
       "      <td>AZ</td>\n",
       "    </tr>\n",
       "    <tr>\n",
       "      <th>status</th>\n",
       "      <td>Active</td>\n",
       "    </tr>\n",
       "    <tr>\n",
       "      <th>statusChange</th>\n",
       "      <td>NaN</td>\n",
       "    </tr>\n",
       "    <tr>\n",
       "      <th>stories</th>\n",
       "      <td>1</td>\n",
       "    </tr>\n",
       "    <tr>\n",
       "      <th>storiesTotal</th>\n",
       "      <td>1</td>\n",
       "    </tr>\n",
       "    <tr>\n",
       "      <th>streetName</th>\n",
       "      <td>NANCE</td>\n",
       "    </tr>\n",
       "    <tr>\n",
       "      <th>streetNumber</th>\n",
       "      <td>2339</td>\n",
       "    </tr>\n",
       "    <tr>\n",
       "      <th>subdivision</th>\n",
       "      <td>2384.00</td>\n",
       "    </tr>\n",
       "    <tr>\n",
       "      <th>subtype</th>\n",
       "      <td>Single Family Residence</td>\n",
       "    </tr>\n",
       "    <tr>\n",
       "      <th>taxAnnual</th>\n",
       "      <td>2384</td>\n",
       "    </tr>\n",
       "    <tr>\n",
       "      <th>taxAssessedValue</th>\n",
       "      <td>NaN</td>\n",
       "    </tr>\n",
       "    <tr>\n",
       "      <th>taxStatus</th>\n",
       "      <td>NaN</td>\n",
       "    </tr>\n",
       "    <tr>\n",
       "      <th>taxYear</th>\n",
       "      <td>2015</td>\n",
       "    </tr>\n",
       "    <tr>\n",
       "      <th>telephoneService</th>\n",
       "      <td>NaN</td>\n",
       "    </tr>\n",
       "    <tr>\n",
       "      <th>termsOfSale</th>\n",
       "      <td>NaN</td>\n",
       "    </tr>\n",
       "    <tr>\n",
       "      <th>type</th>\n",
       "      <td>Detached</td>\n",
       "    </tr>\n",
       "    <tr>\n",
       "      <th>unitNumber</th>\n",
       "      <td>NaN</td>\n",
       "    </tr>\n",
       "    <tr>\n",
       "      <th>unitsInBuilding</th>\n",
       "      <td>NaN</td>\n",
       "    </tr>\n",
       "    <tr>\n",
       "      <th>url</th>\n",
       "      <td>https://rets.io/api/v1/armls/listings/8af478a3...</td>\n",
       "    </tr>\n",
       "    <tr>\n",
       "      <th>view</th>\n",
       "      <td>NaN</td>\n",
       "    </tr>\n",
       "    <tr>\n",
       "      <th>waterSource</th>\n",
       "      <td>['City Water']</td>\n",
       "    </tr>\n",
       "    <tr>\n",
       "      <th>waterfront</th>\n",
       "      <td>NaN</td>\n",
       "    </tr>\n",
       "    <tr>\n",
       "      <th>yearBuilt</th>\n",
       "      <td>1993</td>\n",
       "    </tr>\n",
       "    <tr>\n",
       "      <th>yearBuiltDetails</th>\n",
       "      <td>NaN</td>\n",
       "    </tr>\n",
       "    <tr>\n",
       "      <th>zipCode</th>\n",
       "      <td>85213</td>\n",
       "    </tr>\n",
       "    <tr>\n",
       "      <th>zoning</th>\n",
       "      <td>NaN</td>\n",
       "    </tr>\n",
       "    <tr>\n",
       "      <th>zoningDescription</th>\n",
       "      <td>NaN</td>\n",
       "    </tr>\n",
       "  </tbody>\n",
       "</table>"
      ],
      "text/plain": [
       "<IPython.core.display.HTML object>"
      ]
     },
     "execution_count": 24,
     "metadata": {},
     "output_type": "execute_result"
    }
   ],
   "source": [
    "HTML(phoenix_df.head(1).T.to_html())"
   ]
  },
  {
   "cell_type": "markdown",
   "metadata": {},
   "source": [
    "### Analyze Data"
   ]
  },
  {
   "cell_type": "code",
   "execution_count": null,
   "metadata": {
    "collapsed": false
   },
   "outputs": [],
   "source": [
    "az_df.to_csv('../../data/az_df.csv')"
   ]
  },
  {
   "cell_type": "code",
   "execution_count": null,
   "metadata": {
    "collapsed": false
   },
   "outputs": [],
   "source": [
    "c = ['baths',\n",
    "'bedrooms',\n",
    "'acres',\n",
    "'squareFootage',\n",
    "'closePrice',\n",
    "'daysOnMarket',\n",
    "'originalPrice',\n",
    "'price',\n",
    "'yearBuilt']"
   ]
  },
  {
   "cell_type": "code",
   "execution_count": null,
   "metadata": {
    "collapsed": true
   },
   "outputs": [],
   "source": [
    "df = az_df[(np.abs(stats.zscore(az_df)) < 3).all(axis=1)]"
   ]
  },
  {
   "cell_type": "code",
   "execution_count": null,
   "metadata": {
    "collapsed": true
   },
   "outputs": [],
   "source": [
    "df"
   ]
  },
  {
   "cell_type": "code",
   "execution_count": null,
   "metadata": {
    "collapsed": false
   },
   "outputs": [],
   "source": [
    "pd.scatter_matrix(az_df[c], figsize=(13, 10))\n",
    "print('AZ 54000+ Listings')"
   ]
  },
  {
   "cell_type": "code",
   "execution_count": null,
   "metadata": {
    "collapsed": false
   },
   "outputs": [],
   "source": [
    "az_df.to_csv('../../data/az_df.csv')"
   ]
  },
  {
   "cell_type": "code",
   "execution_count": null,
   "metadata": {
    "collapsed": false
   },
   "outputs": [],
   "source": [
    "mesa_df.city.value_counts()"
   ]
  },
  {
   "cell_type": "code",
   "execution_count": null,
   "metadata": {
    "collapsed": false
   },
   "outputs": [],
   "source": [
    "m = mesa_df.dropna(axis=1, how='all')"
   ]
  },
  {
   "cell_type": "code",
   "execution_count": null,
   "metadata": {
    "collapsed": false
   },
   "outputs": [],
   "source": [
    "m.closePrice.dropna().astype(int).describe()"
   ]
  },
  {
   "cell_type": "code",
   "execution_count": null,
   "metadata": {
    "collapsed": false
   },
   "outputs": [],
   "source": [
    "(mesa_df.closePrice - mesa_df.originalPrice)"
   ]
  },
  {
   "cell_type": "code",
   "execution_count": null,
   "metadata": {
    "collapsed": false
   },
   "outputs": [],
   "source": [
    "dt = pd.DatetimeIndex(pd.to_datetime(mesa_df.listDate.astype('datetime64[s]'), infer_datetime_format=True).values)\n"
   ]
  },
  {
   "cell_type": "code",
   "execution_count": null,
   "metadata": {
    "collapsed": false
   },
   "outputs": [],
   "source": [
    "s = pd.Series(1, index=dt)\n",
    "s.resample('D', how='sum').fillna(0)"
   ]
  },
  {
   "cell_type": "code",
   "execution_count": null,
   "metadata": {
    "collapsed": false,
    "scrolled": false
   },
   "outputs": [],
   "source": [
    "# s.resample('D', how='sum').plot()"
   ]
  },
  {
   "cell_type": "code",
   "execution_count": null,
   "metadata": {
    "collapsed": false,
    "scrolled": true
   },
   "outputs": [],
   "source": [
    "s.resample('D', how='sum').fillna(0)"
   ]
  },
  {
   "cell_type": "code",
   "execution_count": null,
   "metadata": {
    "collapsed": true
   },
   "outputs": [],
   "source": []
  },
  {
   "cell_type": "code",
   "execution_count": null,
   "metadata": {
    "collapsed": true
   },
   "outputs": [],
   "source": []
  }
 ],
 "metadata": {
  "kernelspec": {
   "display_name": "Python 3",
   "language": "python",
   "name": "python3"
  },
  "language_info": {
   "codemirror_mode": {
    "name": "ipython",
    "version": 3
   },
   "file_extension": ".py",
   "mimetype": "text/x-python",
   "name": "python",
   "nbconvert_exporter": "python",
   "pygments_lexer": "ipython3",
   "version": "3.5.0"
  }
 },
 "nbformat": 4,
 "nbformat_minor": 0
}
