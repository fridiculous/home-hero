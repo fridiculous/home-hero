{
 "cells": [
  {
   "cell_type": "code",
   "execution_count": 1,
   "metadata": {
    "collapsed": false
   },
   "outputs": [],
   "source": [
    "import pandas as pd\n",
    "import json\n",
    "\n",
    "%matplotlib inline\n",
    "%load_ext autoreload\n",
    "%autoreload"
   ]
  },
  {
   "cell_type": "code",
   "execution_count": 2,
   "metadata": {
    "collapsed": false
   },
   "outputs": [],
   "source": [
    "from approved_venders import get_approved_venders, get_arizona_listings\n",
    "from approved_venders import get_listings_near, batch_listings_near, batch_arizona_listings"
   ]
  },
  {
   "cell_type": "code",
   "execution_count": 3,
   "metadata": {
    "collapsed": true
   },
   "outputs": [],
   "source": [
    "import matplotlib.pyplot as plt\n",
    "import numpy as np\n",
    "from scipy import stats\n",
    "import matplotlib\n",
    "matplotlib.style.use('ggplot')"
   ]
  },
  {
   "cell_type": "markdown",
   "metadata": {},
   "source": [
    "### vender information"
   ]
  },
  {
   "cell_type": "code",
   "execution_count": null,
   "metadata": {
    "collapsed": false
   },
   "outputs": [],
   "source": [
    "venders = pd.DataFrame(json.loads(get_approved_venders())['bundle'])\n",
    "venders.to_csv('../../data/Approved_Vendors.csv')"
   ]
  },
  {
   "cell_type": "code",
   "execution_count": null,
   "metadata": {
    "collapsed": false
   },
   "outputs": [],
   "source": [
    "venders.activeListings.describe()"
   ]
  },
  {
   "cell_type": "code",
   "execution_count": null,
   "metadata": {
    "collapsed": false
   },
   "outputs": [],
   "source": [
    "mesa_df = pd.DataFrame(json.loads(get_listings_near(offset=0))['bundle'])\n",
    "#venders.to_csv('../../data/Approved_Vendors.csv')"
   ]
  },
  {
   "cell_type": "code",
   "execution_count": null,
   "metadata": {
    "collapsed": true
   },
   "outputs": [],
   "source": [
    "mesa_list = batch_listings_near()\n",
    "mesa_df = pd.concat(mesa_list, axis=0)\n",
    "mesa_df.to_csv('../../data/city_mesa_df.csv')"
   ]
  },
  {
   "cell_type": "code",
   "execution_count": null,
   "metadata": {
    "collapsed": true
   },
   "outputs": [],
   "source": [
    "phoenix_list = get_arizona_listings(\"phoenix\")\n",
    "phoenix_df = pd.concat(phoenix_list, axis=0)\n",
    "phoenix_df.to_csv('../../data/city_phoenix_df.csv')"
   ]
  },
  {
   "cell_type": "markdown",
   "metadata": {},
   "source": [
    "### Get AZ Listings"
   ]
  },
  {
   "cell_type": "code",
   "execution_count": null,
   "metadata": {
    "collapsed": false
   },
   "outputs": [],
   "source": [
    "az_list = batch_arizona_listings()\n",
    "az_df = pd.concat(az_list2, axis=0)\n",
    "az_df.to_csv('../../data/az_df.csv')"
   ]
  },
  {
   "cell_type": "markdown",
   "metadata": {},
   "source": [
    "### common utilties"
   ]
  },
  {
   "cell_type": "code",
   "execution_count": 413,
   "metadata": {
    "collapsed": true
   },
   "outputs": [],
   "source": [
    "def gen_filters(indexes):\n",
    "    list_of_indexes = [i for i in indexes.items()]\n",
    "\n",
    "    filter_criteria = list_of_indexes[0][1]\n",
    "    for i, (k,v) in enumerate(list_of_indexes):\n",
    "        try:\n",
    "            print(k, sum(v))\n",
    "            filter_criteria = (filter_criteria & list_of_indexes[i+1][1])\n",
    "        except IndexError:\n",
    "            pass\n",
    "\n",
    "    return filter_criteria"
   ]
  },
  {
   "cell_type": "markdown",
   "metadata": {},
   "source": [
    "### generate data"
   ]
  },
  {
   "cell_type": "code",
   "execution_count": 414,
   "metadata": {
    "collapsed": true
   },
   "outputs": [],
   "source": [
    "from IPython.display import HTML"
   ]
  },
  {
   "cell_type": "code",
   "execution_count": 415,
   "metadata": {
    "collapsed": true
   },
   "outputs": [],
   "source": [
    "phoenix_df = pd.read_csv('../../data/city_phoenix_df.csv', index_col=0)"
   ]
  },
  {
   "cell_type": "markdown",
   "metadata": {},
   "source": [
    "### Investigate"
   ]
  },
  {
   "cell_type": "code",
   "execution_count": 416,
   "metadata": {
    "collapsed": false
   },
   "outputs": [
    {
     "data": {
      "text/plain": [
       "Phoenix       2388\n",
       "Mesa            81\n",
       "Tempe            9\n",
       "Gilbert          6\n",
       "Scottsdale       3\n",
       "Chandler         1\n",
       "Name: city, dtype: int64"
      ]
     },
     "execution_count": 416,
     "metadata": {},
     "output_type": "execute_result"
    }
   ],
   "source": [
    "phoenix_df.city.value_counts()"
   ]
  },
  {
   "cell_type": "code",
   "execution_count": 417,
   "metadata": {
    "collapsed": false
   },
   "outputs": [
    {
     "data": {
      "text/html": [
       "<div>\n",
       "<table border=\"1\" class=\"dataframe\">\n",
       "  <thead>\n",
       "    <tr style=\"text-align: right;\">\n",
       "      <th></th>\n",
       "      <th>closePrice</th>\n",
       "      <th>False</th>\n",
       "      <th>True</th>\n",
       "    </tr>\n",
       "    <tr>\n",
       "      <th>media</th>\n",
       "      <th>status</th>\n",
       "      <th></th>\n",
       "      <th></th>\n",
       "    </tr>\n",
       "  </thead>\n",
       "  <tbody>\n",
       "    <tr>\n",
       "      <th rowspan=\"6\" valign=\"top\">False</th>\n",
       "      <th>Active</th>\n",
       "      <td>39</td>\n",
       "      <td>0</td>\n",
       "    </tr>\n",
       "    <tr>\n",
       "      <th>Cancelled</th>\n",
       "      <td>70</td>\n",
       "      <td>0</td>\n",
       "    </tr>\n",
       "    <tr>\n",
       "      <th>Closed</th>\n",
       "      <td>0</td>\n",
       "      <td>730</td>\n",
       "    </tr>\n",
       "    <tr>\n",
       "      <th>Expired</th>\n",
       "      <td>7</td>\n",
       "      <td>0</td>\n",
       "    </tr>\n",
       "    <tr>\n",
       "      <th>Pending</th>\n",
       "      <td>8</td>\n",
       "      <td>0</td>\n",
       "    </tr>\n",
       "    <tr>\n",
       "      <th>Temp Off Market</th>\n",
       "      <td>6</td>\n",
       "      <td>0</td>\n",
       "    </tr>\n",
       "    <tr>\n",
       "      <th rowspan=\"2\" valign=\"top\">True</th>\n",
       "      <th>Active</th>\n",
       "      <td>1590</td>\n",
       "      <td>0</td>\n",
       "    </tr>\n",
       "    <tr>\n",
       "      <th>Pending</th>\n",
       "      <td>38</td>\n",
       "      <td>0</td>\n",
       "    </tr>\n",
       "  </tbody>\n",
       "</table>\n",
       "</div>"
      ],
      "text/plain": [
       "closePrice             False  True \n",
       "media status                       \n",
       "False Active              39      0\n",
       "      Cancelled           70      0\n",
       "      Closed               0    730\n",
       "      Expired              7      0\n",
       "      Pending              8      0\n",
       "      Temp Off Market      6      0\n",
       "True  Active            1590      0\n",
       "      Pending             38      0"
      ]
     },
     "execution_count": 417,
     "metadata": {},
     "output_type": "execute_result"
    }
   ],
   "source": [
    "pd.crosstab([phoenix_df.media.notnull(), phoenix_df.status], phoenix_df.closePrice.notnull())"
   ]
  },
  {
   "cell_type": "markdown",
   "metadata": {},
   "source": [
    "### Job Pipeline"
   ]
  },
  {
   "cell_type": "code",
   "execution_count": 420,
   "metadata": {
    "collapsed": false
   },
   "outputs": [],
   "source": [
    "pre_indexes = {\n",
    "    \"good_bedrooms\": (phoenix_df.bedrooms <= 5),\n",
    "    # \"status\": phoenix_df.status == 'Pending',\n",
    "    # \"good_datesold\": (phoenix_df.dateSold > phoenix_df.listDate),\n",
    "    # \"has_close_price\": phoenix_df.closePrice.notnull(),\n",
    "}"
   ]
  },
  {
   "cell_type": "code",
   "execution_count": 421,
   "metadata": {
    "collapsed": false
   },
   "outputs": [
    {
     "name": "stdout",
     "output_type": "stream",
     "text": [
      "good_bedrooms 2467\n"
     ]
    }
   ],
   "source": [
    "pre_filter_criteria = gen_filters(pre_indexes)"
   ]
  },
  {
   "cell_type": "code",
   "execution_count": 422,
   "metadata": {
    "collapsed": false
   },
   "outputs": [],
   "source": [
    "p_df = phoenix_df.drop_duplicates()"
   ]
  },
  {
   "cell_type": "code",
   "execution_count": 423,
   "metadata": {
    "collapsed": true
   },
   "outputs": [],
   "source": [
    "cols = [\n",
    "    'mlsListingID',\n",
    "    'listDate',\n",
    "    'dateSold',\n",
    "    'price',\n",
    "    'closePrice',\n",
    "    'bedrooms',\n",
    "    'baths',\n",
    "    'squareFootage',\n",
    "    'constructionMaterials',\n",
    "    'subtype',\n",
    "    'media',\n",
    "    'status',\n",
    "]\n"
   ]
  },
  {
   "cell_type": "code",
   "execution_count": 424,
   "metadata": {
    "collapsed": false
   },
   "outputs": [],
   "source": [
    "calc_df = phoenix_df.groupby('bedrooms').price.describe().unstack().reset_index()\n",
    "\n",
    "post_df = pd.merge(phoenix_df[cols], calc_df, left_on='bedrooms', right_on='bedrooms', suffixes=['','_agg'], how='inner')"
   ]
  },
  {
   "cell_type": "code",
   "execution_count": 427,
   "metadata": {
    "collapsed": true
   },
   "outputs": [],
   "source": [
    "## generate new fields\n",
    "post_df['job_value'] = (post_df['75%'] - post_df.price)/2."
   ]
  },
  {
   "cell_type": "code",
   "execution_count": 428,
   "metadata": {
    "collapsed": false
   },
   "outputs": [],
   "source": [
    "post_indexes = {\n",
    "    # \"good_bedrooms\": (phoenix_df.bedrooms <= 5),\n",
    "    \"status\": post_df.status == 'Pending',\n",
    "    \"job_value\": post_df.job_value > 0,\n",
    "    # \"good_datesold\": (phoenix_df.dateSold > phoenix_df.listDate),\n",
    "    # \"has_close_price\": phoenix_df.closePrice.notnull(),\n",
    "}"
   ]
  },
  {
   "cell_type": "code",
   "execution_count": 429,
   "metadata": {
    "collapsed": false
   },
   "outputs": [
    {
     "name": "stdout",
     "output_type": "stream",
     "text": [
      "status 46\n",
      "job_value 1852\n"
     ]
    }
   ],
   "source": [
    "post_filter_criteria = gen_filters(post_indexes)"
   ]
  },
  {
   "cell_type": "code",
   "execution_count": 430,
   "metadata": {
    "collapsed": true
   },
   "outputs": [],
   "source": [
    "remove_cols = [\n",
    "    'count',\n",
    "    'mean',\n",
    "    'std',\n",
    "    'min',\n",
    "    '25%',\n",
    "    '50%',\n",
    "    '75%',\n",
    "    'max'\n",
    "]"
   ]
  },
  {
   "cell_type": "code",
   "execution_count": 431,
   "metadata": {
    "collapsed": false
   },
   "outputs": [],
   "source": [
    "post_df = post_df[post_filter_criteria].sort_values(by='job_value', ascending=False)\n",
    "final_df = post_df.drop(remove_cols, axis=1)\n"
   ]
  },
  {
   "cell_type": "code",
   "execution_count": 432,
   "metadata": {
    "collapsed": false
   },
   "outputs": [],
   "source": [
    "final_df.T.to_json('../../data/phoenix.json')"
   ]
  },
  {
   "cell_type": "markdown",
   "metadata": {},
   "source": [
    "### Analysis"
   ]
  },
  {
   "cell_type": "code",
   "execution_count": 439,
   "metadata": {
    "collapsed": false
   },
   "outputs": [
    {
     "name": "stdout",
     "output_type": "stream",
     "text": [
      "phoenix, pending\n"
     ]
    },
    {
     "data": {
      "image/png": "[encoded data removed]",
      "text/plain": [
       "<matplotlib.figure.Figure at 0x1145959e8>"
      ]
     },
     "metadata": {},
     "output_type": "display_data"
    }
   ],
   "source": [
    "c = ['price', 'squareFootage', 'bedrooms', 'baths', 'job_value']\n",
    "pd.scatter_matrix(final_df[c], figsize=(12,10))\n",
    "print(\"phoenix, pending\")"
   ]
  },
  {
   "cell_type": "code",
   "execution_count": 138,
   "metadata": {
    "collapsed": false
   },
   "outputs": [],
   "source": [
    "dt = pd.to_datetime(phoenix_df[cnull & ind].dateSold, unit='s').values"
   ]
  },
  {
   "cell_type": "code",
   "execution_count": 158,
   "metadata": {
    "collapsed": false
   },
   "outputs": [
    {
     "data": {
      "text/plain": [
       "False    2453\n",
       "True        3\n",
       "dtype: int64"
      ]
     },
     "execution_count": 158,
     "metadata": {},
     "output_type": "execute_result"
    }
   ],
   "source": [
    "# remove_old (\n",
    "# [cnull & ind]\n",
    "\n",
    "[cnull & ind]"
   ]
  },
  {
   "cell_type": "code",
   "execution_count": 154,
   "metadata": {
    "collapsed": true
   },
   "outputs": [],
   "source": [
    "from datetime import datetime"
   ]
  },
  {
   "cell_type": "code",
   "execution_count": 155,
   "metadata": {
    "collapsed": false
   },
   "outputs": [
    {
     "ename": "TypeError",
     "evalue": "an integer is required (got type str)",
     "output_type": "error",
     "traceback": [
      "\u001b[0;31m---------------------------------------------------------------------------\u001b[0m",
      "\u001b[0;31mTypeError\u001b[0m                                 Traceback (most recent call last)",
      "\u001b[0;32m<ipython-input-155-588a20478d85>\u001b[0m in \u001b[0;36m<module>\u001b[0;34m()\u001b[0m\n\u001b[0;32m----> 1\u001b[0;31m \u001b[0mphoenix_df\u001b[0m\u001b[0;34m.\u001b[0m\u001b[0mdateSold\u001b[0m\u001b[0;34m.\u001b[0m\u001b[0mdropna\u001b[0m\u001b[0;34m(\u001b[0m\u001b[0;34m)\u001b[0m\u001b[0;34m.\u001b[0m\u001b[0mapply\u001b[0m\u001b[0;34m(\u001b[0m\u001b[0;32mlambda\u001b[0m \u001b[0mx\u001b[0m\u001b[0;34m:\u001b[0m\u001b[0mdatetime\u001b[0m\u001b[0;34m(\u001b[0m\u001b[0mx\u001b[0m\u001b[0;34m)\u001b[0m\u001b[0;34m.\u001b[0m\u001b[0mYear\u001b[0m\u001b[0;34m)\u001b[0m\u001b[0;34m\u001b[0m\u001b[0m\n\u001b[0m",
      "\u001b[0;32m/Users/simon.frid/.virtualenvs/lovely-django/lib/python3.5/site-packages/pandas/core/series.py\u001b[0m in \u001b[0;36mapply\u001b[0;34m(self, func, convert_dtype, args, **kwds)\u001b[0m\n\u001b[1;32m   2158\u001b[0m             \u001b[0mvalues\u001b[0m \u001b[0;34m=\u001b[0m \u001b[0mlib\u001b[0m\u001b[0;34m.\u001b[0m\u001b[0mmap_infer\u001b[0m\u001b[0;34m(\u001b[0m\u001b[0mvalues\u001b[0m\u001b[0;34m,\u001b[0m \u001b[0mlib\u001b[0m\u001b[0;34m.\u001b[0m\u001b[0mTimestamp\u001b[0m\u001b[0;34m)\u001b[0m\u001b[0;34m\u001b[0m\u001b[0m\n\u001b[1;32m   2159\u001b[0m \u001b[0;34m\u001b[0m\u001b[0m\n\u001b[0;32m-> 2160\u001b[0;31m         \u001b[0mmapped\u001b[0m \u001b[0;34m=\u001b[0m \u001b[0mlib\u001b[0m\u001b[0;34m.\u001b[0m\u001b[0mmap_infer\u001b[0m\u001b[0;34m(\u001b[0m\u001b[0mvalues\u001b[0m\u001b[0;34m,\u001b[0m \u001b[0mf\u001b[0m\u001b[0;34m,\u001b[0m \u001b[0mconvert\u001b[0m\u001b[0;34m=\u001b[0m\u001b[0mconvert_dtype\u001b[0m\u001b[0;34m)\u001b[0m\u001b[0;34m\u001b[0m\u001b[0m\n\u001b[0m\u001b[1;32m   2161\u001b[0m         \u001b[0;32mif\u001b[0m \u001b[0mlen\u001b[0m\u001b[0;34m(\u001b[0m\u001b[0mmapped\u001b[0m\u001b[0;34m)\u001b[0m \u001b[0;32mand\u001b[0m \u001b[0misinstance\u001b[0m\u001b[0;34m(\u001b[0m\u001b[0mmapped\u001b[0m\u001b[0;34m[\u001b[0m\u001b[0;36m0\u001b[0m\u001b[0;34m]\u001b[0m\u001b[0;34m,\u001b[0m \u001b[0mSeries\u001b[0m\u001b[0;34m)\u001b[0m\u001b[0;34m:\u001b[0m\u001b[0;34m\u001b[0m\u001b[0m\n\u001b[1;32m   2162\u001b[0m             \u001b[0;32mfrom\u001b[0m \u001b[0mpandas\u001b[0m\u001b[0;34m.\u001b[0m\u001b[0mcore\u001b[0m\u001b[0;34m.\u001b[0m\u001b[0mframe\u001b[0m \u001b[0;32mimport\u001b[0m \u001b[0mDataFrame\u001b[0m\u001b[0;34m\u001b[0m\u001b[0m\n",
      "\u001b[0;32mpandas/src/inference.pyx\u001b[0m in \u001b[0;36mpandas.lib.map_infer (pandas/lib.c:62187)\u001b[0;34m()\u001b[0m\n",
      "\u001b[0;32m<ipython-input-155-588a20478d85>\u001b[0m in \u001b[0;36m<lambda>\u001b[0;34m(x)\u001b[0m\n\u001b[0;32m----> 1\u001b[0;31m \u001b[0mphoenix_df\u001b[0m\u001b[0;34m.\u001b[0m\u001b[0mdateSold\u001b[0m\u001b[0;34m.\u001b[0m\u001b[0mdropna\u001b[0m\u001b[0;34m(\u001b[0m\u001b[0;34m)\u001b[0m\u001b[0;34m.\u001b[0m\u001b[0mapply\u001b[0m\u001b[0;34m(\u001b[0m\u001b[0;32mlambda\u001b[0m \u001b[0mx\u001b[0m\u001b[0;34m:\u001b[0m\u001b[0mdatetime\u001b[0m\u001b[0;34m(\u001b[0m\u001b[0mx\u001b[0m\u001b[0;34m)\u001b[0m\u001b[0;34m.\u001b[0m\u001b[0mYear\u001b[0m\u001b[0;34m)\u001b[0m\u001b[0;34m\u001b[0m\u001b[0m\n\u001b[0m",
      "\u001b[0;31mTypeError\u001b[0m: an integer is required (got type str)"
     ]
    }
   ],
   "source": [
    "phoenix_df.dateSold.dropna().apply(lambda x:datetime(x).Year)"
   ]
  },
  {
   "cell_type": "code",
   "execution_count": 140,
   "metadata": {
    "collapsed": false
   },
   "outputs": [
    {
     "data": {
      "text/plain": [
       "2000-08-31     1\n",
       "2000-09-01   NaN\n",
       "2000-09-02   NaN\n",
       "2000-09-03   NaN\n",
       "2000-09-04   NaN\n",
       "2000-09-05   NaN\n",
       "2000-09-06   NaN\n",
       "2000-09-07   NaN\n",
       "2000-09-08   NaN\n",
       "2000-09-09   NaN\n",
       "2000-09-10   NaN\n",
       "2000-09-11   NaN\n",
       "2000-09-12   NaN\n",
       "2000-09-13   NaN\n",
       "2000-09-14   NaN\n",
       "2000-09-15   NaN\n",
       "2000-09-16   NaN\n",
       "2000-09-17   NaN\n",
       "2000-09-18   NaN\n",
       "2000-09-19   NaN\n",
       "2000-09-20   NaN\n",
       "2000-09-21   NaN\n",
       "2000-09-22   NaN\n",
       "2000-09-23   NaN\n",
       "2000-09-24   NaN\n",
       "2000-09-25   NaN\n",
       "2000-09-26   NaN\n",
       "2000-09-27   NaN\n",
       "2000-09-28   NaN\n",
       "2000-09-29   NaN\n",
       "              ..\n",
       "2015-10-08   NaN\n",
       "2015-10-09     1\n",
       "2015-10-10   NaN\n",
       "2015-10-11   NaN\n",
       "2015-10-12   NaN\n",
       "2015-10-13   NaN\n",
       "2015-10-14     1\n",
       "2015-10-15     1\n",
       "2015-10-16     2\n",
       "2015-10-17   NaN\n",
       "2015-10-18   NaN\n",
       "2015-10-19   NaN\n",
       "2015-10-20   NaN\n",
       "2015-10-21   NaN\n",
       "2015-10-22   NaN\n",
       "2015-10-23   NaN\n",
       "2015-10-24   NaN\n",
       "2015-10-25   NaN\n",
       "2015-10-26   NaN\n",
       "2015-10-27   NaN\n",
       "2015-10-28   NaN\n",
       "2015-10-29   NaN\n",
       "2015-10-30     3\n",
       "2015-10-31   NaN\n",
       "2015-11-01   NaN\n",
       "2015-11-02     1\n",
       "2015-11-03     5\n",
       "2015-11-04     6\n",
       "2015-11-05    10\n",
       "2015-11-06    23\n",
       "Freq: D, dtype: float64"
      ]
     },
     "execution_count": 140,
     "metadata": {},
     "output_type": "execute_result"
    }
   ],
   "source": [
    "pd.Series(1, dt).resample('D', how='sum')"
   ]
  },
  {
   "cell_type": "code",
   "execution_count": 24,
   "metadata": {
    "collapsed": false,
    "scrolled": false
   },
   "outputs": [
    {
     "data": {
      "text/html": [
       "<table border=\"1\" class=\"dataframe\">\n",
       "  <thead>\n",
       "    <tr style=\"text-align: right;\">\n",
       "      <th></th>\n",
       "      <th>0</th>\n",
       "    </tr>\n",
       "  </thead>\n",
       "  <tbody>\n",
       "    <tr>\n",
       "      <th>aboveGradeFinishedArea</th>\n",
       "      <td>NaN</td>\n",
       "    </tr>\n",
       "    <tr>\n",
       "      <th>accessibilityFeatures</th>\n",
       "      <td>NaN</td>\n",
       "    </tr>\n",
       "    <tr>\n",
       "      <th>acres</th>\n",
       "      <td>0.261157</td>\n",
       "    </tr>\n",
       "    <tr>\n",
       "      <th>additionalParcels</th>\n",
       "      <td>NaN</td>\n",
       "    </tr>\n",
       "    <tr>\n",
       "      <th>address</th>\n",
       "      <td>E 2339 NANCE Circle, Mesa AZ</td>\n",
       "    </tr>\n",
       "    <tr>\n",
       "      <th>agent</th>\n",
       "      <td>b8e73209730a0be146cfe877261d7ef9</td>\n",
       "    </tr>\n",
       "    <tr>\n",
       "      <th>appliances</th>\n",
       "      <td>NaN</td>\n",
       "    </tr>\n",
       "    <tr>\n",
       "      <th>baths</th>\n",
       "      <td>3</td>\n",
       "    </tr>\n",
       "    <tr>\n",
       "      <th>bedrooms</th>\n",
       "      <td>5</td>\n",
       "    </tr>\n",
       "    <tr>\n",
       "      <th>belowGradeFinishedArea</th>\n",
       "      <td>NaN</td>\n",
       "    </tr>\n",
       "    <tr>\n",
       "      <th>cancelationDate</th>\n",
       "      <td>NaN</td>\n",
       "    </tr>\n",
       "    <tr>\n",
       "      <th>carportSpaces</th>\n",
       "      <td>NaN</td>\n",
       "    </tr>\n",
       "    <tr>\n",
       "      <th>city</th>\n",
       "      <td>Mesa</td>\n",
       "    </tr>\n",
       "    <tr>\n",
       "      <th>closePrice</th>\n",
       "      <td>NaN</td>\n",
       "    </tr>\n",
       "    <tr>\n",
       "      <th>constructionMaterials</th>\n",
       "      <td>['Frame - Wood']</td>\n",
       "    </tr>\n",
       "    <tr>\n",
       "      <th>contingency</th>\n",
       "      <td>NaN</td>\n",
       "    </tr>\n",
       "    <tr>\n",
       "      <th>cooling</th>\n",
       "      <td>['Refrigeration']</td>\n",
       "    </tr>\n",
       "    <tr>\n",
       "      <th>coordinates</th>\n",
       "      <td>[-111.78005981445312, 33.46468734741211]</td>\n",
       "    </tr>\n",
       "    <tr>\n",
       "      <th>country</th>\n",
       "      <td>USA</td>\n",
       "    </tr>\n",
       "    <tr>\n",
       "      <th>county</th>\n",
       "      <td>Maricopa</td>\n",
       "    </tr>\n",
       "    <tr>\n",
       "      <th>dateListed</th>\n",
       "      <td>NaN</td>\n",
       "    </tr>\n",
       "    <tr>\n",
       "      <th>dateSold</th>\n",
       "      <td>NaN</td>\n",
       "    </tr>\n",
       "    <tr>\n",
       "      <th>daysOnMarket</th>\n",
       "      <td>NaN</td>\n",
       "    </tr>\n",
       "    <tr>\n",
       "      <th>disclosures</th>\n",
       "      <td>['Seller Disc Avail']</td>\n",
       "    </tr>\n",
       "    <tr>\n",
       "      <th>distanceFrom</th>\n",
       "      <td>4.4343</td>\n",
       "    </tr>\n",
       "    <tr>\n",
       "      <th>expirationDate</th>\n",
       "      <td>2016-05-06T00:00:00.000Z</td>\n",
       "    </tr>\n",
       "    <tr>\n",
       "      <th>exteriorFeatures</th>\n",
       "      <td>['Covered Patio(s)']</td>\n",
       "    </tr>\n",
       "    <tr>\n",
       "      <th>financialDataSource</th>\n",
       "      <td>NaN</td>\n",
       "    </tr>\n",
       "    <tr>\n",
       "      <th>fireplaceFeatures</th>\n",
       "      <td>['2 Fireplace', 'Fireplace Family Rm', 'Firepl...</td>\n",
       "    </tr>\n",
       "    <tr>\n",
       "      <th>fireplaces</th>\n",
       "      <td>NaN</td>\n",
       "    </tr>\n",
       "    <tr>\n",
       "      <th>flooring</th>\n",
       "      <td>['Carpet', 'Stone', 'Wood']</td>\n",
       "    </tr>\n",
       "    <tr>\n",
       "      <th>foundationDetails</th>\n",
       "      <td>NaN</td>\n",
       "    </tr>\n",
       "    <tr>\n",
       "      <th>frontageLength</th>\n",
       "      <td>NaN</td>\n",
       "    </tr>\n",
       "    <tr>\n",
       "      <th>garageSpaces</th>\n",
       "      <td>3</td>\n",
       "    </tr>\n",
       "    <tr>\n",
       "      <th>gas</th>\n",
       "      <td>NaN</td>\n",
       "    </tr>\n",
       "    <tr>\n",
       "      <th>halfBaths</th>\n",
       "      <td>NaN</td>\n",
       "    </tr>\n",
       "    <tr>\n",
       "      <th>heating</th>\n",
       "      <td>['Electric Heat', 'Gas Heat']</td>\n",
       "    </tr>\n",
       "    <tr>\n",
       "      <th>id</th>\n",
       "      <td>8af478a34e084f97eaf506cc2abf5ea2</td>\n",
       "    </tr>\n",
       "    <tr>\n",
       "      <th>lastModified</th>\n",
       "      <td>2015-11-07T13:09:41.964Z</td>\n",
       "    </tr>\n",
       "    <tr>\n",
       "      <th>laundry</th>\n",
       "      <td>['Inside Laundry']</td>\n",
       "    </tr>\n",
       "    <tr>\n",
       "      <th>listDate</th>\n",
       "      <td>2015-11-07T00:00:00.000Z</td>\n",
       "    </tr>\n",
       "    <tr>\n",
       "      <th>livingArea</th>\n",
       "      <td>2774</td>\n",
       "    </tr>\n",
       "    <tr>\n",
       "      <th>media</th>\n",
       "      <td>[{'index': 1, 'shortDescription': 'DSC_8066[1]...</td>\n",
       "    </tr>\n",
       "    <tr>\n",
       "      <th>mlsAgentID</th>\n",
       "      <td>20071208002334986175000000</td>\n",
       "    </tr>\n",
       "    <tr>\n",
       "      <th>mlsListingID</th>\n",
       "      <td>20151106173543822922000000</td>\n",
       "    </tr>\n",
       "    <tr>\n",
       "      <th>mlsOfficeID</th>\n",
       "      <td>20071206231800996089000000</td>\n",
       "    </tr>\n",
       "    <tr>\n",
       "      <th>occupantType</th>\n",
       "      <td>NaN</td>\n",
       "    </tr>\n",
       "    <tr>\n",
       "      <th>office</th>\n",
       "      <td>cd1dece2493fef67cfd7dfeb0756848f</td>\n",
       "    </tr>\n",
       "    <tr>\n",
       "      <th>openParking</th>\n",
       "      <td>NaN</td>\n",
       "    </tr>\n",
       "    <tr>\n",
       "      <th>originalPrice</th>\n",
       "      <td>425000</td>\n",
       "    </tr>\n",
       "    <tr>\n",
       "      <th>ownership</th>\n",
       "      <td>Fee Simple</td>\n",
       "    </tr>\n",
       "    <tr>\n",
       "      <th>parcelNumber</th>\n",
       "      <td>NaN</td>\n",
       "    </tr>\n",
       "    <tr>\n",
       "      <th>pool</th>\n",
       "      <td>NaN</td>\n",
       "    </tr>\n",
       "    <tr>\n",
       "      <th>poolFeatures</th>\n",
       "      <td>['Private Only']</td>\n",
       "    </tr>\n",
       "    <tr>\n",
       "      <th>poolPrivate</th>\n",
       "      <td>NaN</td>\n",
       "    </tr>\n",
       "    <tr>\n",
       "      <th>possession</th>\n",
       "      <td>['Close of Escrow']</td>\n",
       "    </tr>\n",
       "    <tr>\n",
       "      <th>previousPrice</th>\n",
       "      <td>NaN</td>\n",
       "    </tr>\n",
       "    <tr>\n",
       "      <th>price</th>\n",
       "      <td>425000</td>\n",
       "    </tr>\n",
       "    <tr>\n",
       "      <th>privateRemarks</th>\n",
       "      <td>Call or text owner to show. Please use America...</td>\n",
       "    </tr>\n",
       "    <tr>\n",
       "      <th>publicRemarks</th>\n",
       "      <td>Move in ready and priced to sell located in an...</td>\n",
       "    </tr>\n",
       "    <tr>\n",
       "      <th>roadSurface</th>\n",
       "      <td>NaN</td>\n",
       "    </tr>\n",
       "    <tr>\n",
       "      <th>roof</th>\n",
       "      <td>All Tile</td>\n",
       "    </tr>\n",
       "    <tr>\n",
       "      <th>roomsTotal</th>\n",
       "      <td>NaN</td>\n",
       "    </tr>\n",
       "    <tr>\n",
       "      <th>sewer</th>\n",
       "      <td>['Sewer - Public']</td>\n",
       "    </tr>\n",
       "    <tr>\n",
       "      <th>squareFootage</th>\n",
       "      <td>11376</td>\n",
       "    </tr>\n",
       "    <tr>\n",
       "      <th>state</th>\n",
       "      <td>AZ</td>\n",
       "    </tr>\n",
       "    <tr>\n",
       "      <th>status</th>\n",
       "      <td>Active</td>\n",
       "    </tr>\n",
       "    <tr>\n",
       "      <th>statusChange</th>\n",
       "      <td>NaN</td>\n",
       "    </tr>\n",
       "    <tr>\n",
       "      <th>stories</th>\n",
       "      <td>1</td>\n",
       "    </tr>\n",
       "    <tr>\n",
       "      <th>storiesTotal</th>\n",
       "      <td>1</td>\n",
       "    </tr>\n",
       "    <tr>\n",
       "      <th>streetName</th>\n",
       "      <td>NANCE</td>\n",
       "    </tr>\n",
       "    <tr>\n",
       "      <th>streetNumber</th>\n",
       "      <td>2339</td>\n",
       "    </tr>\n",
       "    <tr>\n",
       "      <th>subdivision</th>\n",
       "      <td>2384.00</td>\n",
       "    </tr>\n",
       "    <tr>\n",
       "      <th>subtype</th>\n",
       "      <td>Single Family Residence</td>\n",
       "    </tr>\n",
       "    <tr>\n",
       "      <th>taxAnnual</th>\n",
       "      <td>2384</td>\n",
       "    </tr>\n",
       "    <tr>\n",
       "      <th>taxAssessedValue</th>\n",
       "      <td>NaN</td>\n",
       "    </tr>\n",
       "    <tr>\n",
       "      <th>taxStatus</th>\n",
       "      <td>NaN</td>\n",
       "    </tr>\n",
       "    <tr>\n",
       "      <th>taxYear</th>\n",
       "      <td>2015</td>\n",
       "    </tr>\n",
       "    <tr>\n",
       "      <th>telephoneService</th>\n",
       "      <td>NaN</td>\n",
       "    </tr>\n",
       "    <tr>\n",
       "      <th>termsOfSale</th>\n",
       "      <td>NaN</td>\n",
       "    </tr>\n",
       "    <tr>\n",
       "      <th>type</th>\n",
       "      <td>Detached</td>\n",
       "    </tr>\n",
       "    <tr>\n",
       "      <th>unitNumber</th>\n",
       "      <td>NaN</td>\n",
       "    </tr>\n",
       "    <tr>\n",
       "      <th>unitsInBuilding</th>\n",
       "      <td>NaN</td>\n",
       "    </tr>\n",
       "    <tr>\n",
       "      <th>url</th>\n",
       "      <td>https://rets.io/api/v1/armls/listings/8af478a3...</td>\n",
       "    </tr>\n",
       "    <tr>\n",
       "      <th>view</th>\n",
       "      <td>NaN</td>\n",
       "    </tr>\n",
       "    <tr>\n",
       "      <th>waterSource</th>\n",
       "      <td>['City Water']</td>\n",
       "    </tr>\n",
       "    <tr>\n",
       "      <th>waterfront</th>\n",
       "      <td>NaN</td>\n",
       "    </tr>\n",
       "    <tr>\n",
       "      <th>yearBuilt</th>\n",
       "      <td>1993</td>\n",
       "    </tr>\n",
       "    <tr>\n",
       "      <th>yearBuiltDetails</th>\n",
       "      <td>NaN</td>\n",
       "    </tr>\n",
       "    <tr>\n",
       "      <th>zipCode</th>\n",
       "      <td>85213</td>\n",
       "    </tr>\n",
       "    <tr>\n",
       "      <th>zoning</th>\n",
       "      <td>NaN</td>\n",
       "    </tr>\n",
       "    <tr>\n",
       "      <th>zoningDescription</th>\n",
       "      <td>NaN</td>\n",
       "    </tr>\n",
       "  </tbody>\n",
       "</table>"
      ],
      "text/plain": [
       "<IPython.core.display.HTML object>"
      ]
     },
     "execution_count": 24,
     "metadata": {},
     "output_type": "execute_result"
    }
   ],
   "source": [
    "HTML(phoenix_df.head(1).T.to_html())"
   ]
  },
  {
   "cell_type": "code",
   "execution_count": 112,
   "metadata": {
    "collapsed": false
   },
   "outputs": [
    {
     "data": {
      "text/plain": [
       "Active             1590\n",
       "Closed              717\n",
       "Cancelled            70\n",
       "Pending              45\n",
       "Expired               7\n",
       "Temp Off Market       6\n",
       "Name: status, dtype: int64"
      ]
     },
     "execution_count": 112,
     "metadata": {},
     "output_type": "execute_result"
    }
   ],
   "source": [
    "phoenix_df[ind].status.value_counts()"
   ]
  },
  {
   "cell_type": "markdown",
   "metadata": {},
   "source": [
    "### Analyze Data"
   ]
  },
  {
   "cell_type": "code",
   "execution_count": null,
   "metadata": {
    "collapsed": false
   },
   "outputs": [],
   "source": [
    "az_df.to_csv('../../data/az_df.csv')"
   ]
  },
  {
   "cell_type": "code",
   "execution_count": null,
   "metadata": {
    "collapsed": false
   },
   "outputs": [],
   "source": [
    "c = ['baths',\n",
    "'bedrooms',\n",
    "'acres',\n",
    "'squareFootage',\n",
    "'closePrice',\n",
    "'daysOnMarket',\n",
    "'originalPrice',\n",
    "'price',\n",
    "'yearBuilt']"
   ]
  },
  {
   "cell_type": "code",
   "execution_count": null,
   "metadata": {
    "collapsed": true
   },
   "outputs": [],
   "source": [
    "df = az_df[(np.abs(stats.zscore(az_df)) < 3).all(axis=1)]"
   ]
  },
  {
   "cell_type": "code",
   "execution_count": null,
   "metadata": {
    "collapsed": true
   },
   "outputs": [],
   "source": [
    "df"
   ]
  },
  {
   "cell_type": "code",
   "execution_count": null,
   "metadata": {
    "collapsed": false
   },
   "outputs": [],
   "source": [
    "pd.scatter_matrix(az_df[c], figsize=(13, 10))\n",
    "print('AZ 54000+ Listings')"
   ]
  },
  {
   "cell_type": "code",
   "execution_count": null,
   "metadata": {
    "collapsed": false
   },
   "outputs": [],
   "source": [
    "az_df.to_csv('../../data/az_df.csv')"
   ]
  },
  {
   "cell_type": "code",
   "execution_count": null,
   "metadata": {
    "collapsed": false
   },
   "outputs": [],
   "source": [
    "mesa_df.city.value_counts()"
   ]
  },
  {
   "cell_type": "code",
   "execution_count": null,
   "metadata": {
    "collapsed": false
   },
   "outputs": [],
   "source": [
    "m = mesa_df.dropna(axis=1, how='all')"
   ]
  },
  {
   "cell_type": "code",
   "execution_count": null,
   "metadata": {
    "collapsed": false
   },
   "outputs": [],
   "source": [
    "m.closePrice.dropna().astype(int).describe()"
   ]
  },
  {
   "cell_type": "code",
   "execution_count": null,
   "metadata": {
    "collapsed": false
   },
   "outputs": [],
   "source": [
    "(mesa_df.closePrice - mesa_df.originalPrice)"
   ]
  },
  {
   "cell_type": "code",
   "execution_count": null,
   "metadata": {
    "collapsed": false
   },
   "outputs": [],
   "source": [
    "dt = pd.DatetimeIndex(pd.to_datetime(mesa_df.listDate.astype('datetime64[s]'), infer_datetime_format=True).values)\n"
   ]
  },
  {
   "cell_type": "code",
   "execution_count": null,
   "metadata": {
    "collapsed": false
   },
   "outputs": [],
   "source": [
    "s = pd.Series(1, index=dt)\n",
    "s.resample('D', how='sum').fillna(0)"
   ]
  },
  {
   "cell_type": "code",
   "execution_count": null,
   "metadata": {
    "collapsed": false,
    "scrolled": false
   },
   "outputs": [],
   "source": [
    "# s.resample('D', how='sum').plot()"
   ]
  },
  {
   "cell_type": "code",
   "execution_count": null,
   "metadata": {
    "collapsed": false,
    "scrolled": true
   },
   "outputs": [],
   "source": [
    "s.resample('D', how='sum').fillna(0)"
   ]
  },
  {
   "cell_type": "code",
   "execution_count": null,
   "metadata": {
    "collapsed": true
   },
   "outputs": [],
   "source": []
  },
  {
   "cell_type": "code",
   "execution_count": null,
   "metadata": {
    "collapsed": true
   },
   "outputs": [],
   "source": []
  }
 ],
 "metadata": {
  "kernelspec": {
   "display_name": "Python 3",
   "language": "python",
   "name": "python3"
  },
  "language_info": {
   "codemirror_mode": {
    "name": "ipython",
    "version": 3
   },
   "file_extension": ".py",
   "mimetype": "text/x-python",
   "name": "python",
   "nbconvert_exporter": "python",
   "pygments_lexer": "ipython3",
   "version": "3.5.0"
  }
 },
 "nbformat": 4,
 "nbformat_minor": 0
}
