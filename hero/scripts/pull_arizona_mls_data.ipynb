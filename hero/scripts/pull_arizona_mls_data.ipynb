{
 "cells": [
  {
   "cell_type": "code",
   "execution_count": 1,
   "metadata": {
    "collapsed": false
   },
   "outputs": [],
   "source": [
    "import pandas as pd\n",
    "import json\n",
    "\n",
    "%matplotlib inline\n",
    "%load_ext autoreload\n",
    "%autoreload"
   ]
  },
  {
   "cell_type": "code",
   "execution_count": 2,
   "metadata": {
    "collapsed": false
   },
   "outputs": [],
   "source": [
    "from approved_venders import get_approved_venders, get_arizona_listings\n",
    "from approved_venders import get_listings_near, batch_listings_near, batch_arizona_listings"
   ]
  },
  {
   "cell_type": "code",
   "execution_count": 3,
   "metadata": {
    "collapsed": true
   },
   "outputs": [],
   "source": [
    "import matplotlib.pyplot as plt\n",
    "import numpy as np\n",
    "from scipy import stats\n",
    "import matplotlib\n",
    "matplotlib.style.use('ggplot')"
   ]
  },
  {
   "cell_type": "markdown",
   "metadata": {},
   "source": [
    "### vender information"
   ]
  },
  {
   "cell_type": "code",
   "execution_count": null,
   "metadata": {
    "collapsed": false
   },
   "outputs": [],
   "source": [
    "venders = pd.DataFrame(json.loads(get_approved_venders())['bundle'])\n",
    "venders.to_csv('../../data/Approved_Vendors.csv')"
   ]
  },
  {
   "cell_type": "code",
   "execution_count": null,
   "metadata": {
    "collapsed": false
   },
   "outputs": [],
   "source": [
    "venders.activeListings.describe()"
   ]
  },
  {
   "cell_type": "code",
   "execution_count": null,
   "metadata": {
    "collapsed": false
   },
   "outputs": [],
   "source": [
    "mesa_df = pd.DataFrame(json.loads(get_listings_near(offset=0))['bundle'])\n",
    "#venders.to_csv('../../data/Approved_Vendors.csv')"
   ]
  },
  {
   "cell_type": "code",
   "execution_count": null,
   "metadata": {
    "collapsed": true
   },
   "outputs": [],
   "source": [
    "mesa_list = batch_listings_near()\n",
    "mesa_df = pd.concat(mesa_list, axis=0)\n",
    "mesa_df.to_csv('../../data/city_mesa_df.csv')"
   ]
  },
  {
   "cell_type": "code",
   "execution_count": null,
   "metadata": {
    "collapsed": true
   },
   "outputs": [],
   "source": [
    "phoenix_list = get_arizona_listings(\"phoenix\")\n",
    "phoenix_df = pd.concat(phoenix_list, axis=0)\n",
    "phoenix_df.to_csv('../../data/city_phoenix_df.csv')"
   ]
  },
  {
   "cell_type": "markdown",
   "metadata": {},
   "source": [
    "### Get AZ Listings"
   ]
  },
  {
   "cell_type": "code",
   "execution_count": null,
   "metadata": {
    "collapsed": false
   },
   "outputs": [],
   "source": [
    "az_list = batch_arizona_listings()\n",
    "az_df = pd.concat(az_list2, axis=0)\n",
    "az_df.to_csv('../../data/az_df.csv')"
   ]
  },
  {
   "cell_type": "markdown",
   "metadata": {},
   "source": [
    "### common utilties"
   ]
  },
  {
   "cell_type": "code",
   "execution_count": 413,
   "metadata": {
    "collapsed": true
   },
   "outputs": [],
   "source": [
    "def gen_filters(indexes):\n",
    "    list_of_indexes = [i for i in indexes.items()]\n",
    "\n",
    "    filter_criteria = list_of_indexes[0][1]\n",
    "    for i, (k,v) in enumerate(list_of_indexes):\n",
    "        try:\n",
    "            print(k, sum(v))\n",
    "            filter_criteria = (filter_criteria & list_of_indexes[i+1][1])\n",
    "        except IndexError:\n",
    "            pass\n",
    "\n",
    "    return filter_criteria"
   ]
  },
  {
   "cell_type": "code",
   "execution_count": 440,
   "metadata": {
    "collapsed": true
   },
   "outputs": [],
   "source": [
    "from datetime import datetime"
   ]
  },
  {
   "cell_type": "markdown",
   "metadata": {},
   "source": [
    "### generate data"
   ]
  },
  {
   "cell_type": "code",
   "execution_count": 414,
   "metadata": {
    "collapsed": true
   },
   "outputs": [],
   "source": [
    "from IPython.display import HTML"
   ]
  },
  {
   "cell_type": "code",
   "execution_count": 493,
   "metadata": {
    "collapsed": true
   },
   "outputs": [],
   "source": [
    "phoenix_df = pd.read_csv('../../data/city_phoenix_df.csv', index_col=0).reset_index(drop=True)"
   ]
  },
  {
   "cell_type": "markdown",
   "metadata": {},
   "source": [
    "### Investigate"
   ]
  },
  {
   "cell_type": "code",
   "execution_count": 595,
   "metadata": {
    "collapsed": false
   },
   "outputs": [
    {
     "data": {
      "text/plain": [
       "Phoenix       2388\n",
       "Mesa            81\n",
       "Tempe            9\n",
       "Gilbert          6\n",
       "Scottsdale       3\n",
       "Chandler         1\n",
       "Name: city, dtype: int64"
      ]
     },
     "execution_count": 595,
     "metadata": {},
     "output_type": "execute_result"
    }
   ],
   "source": [
    "phoenix_df.city.value_counts()"
   ]
  },
  {
   "cell_type": "code",
   "execution_count": 596,
   "metadata": {
    "collapsed": false
   },
   "outputs": [
    {
     "data": {
      "text/html": [
       "<div>\n",
       "<table border=\"1\" class=\"dataframe\">\n",
       "  <thead>\n",
       "    <tr style=\"text-align: right;\">\n",
       "      <th></th>\n",
       "      <th>closePrice</th>\n",
       "      <th>False</th>\n",
       "      <th>True</th>\n",
       "    </tr>\n",
       "    <tr>\n",
       "      <th>media</th>\n",
       "      <th>status</th>\n",
       "      <th></th>\n",
       "      <th></th>\n",
       "    </tr>\n",
       "  </thead>\n",
       "  <tbody>\n",
       "    <tr>\n",
       "      <th rowspan=\"6\" valign=\"top\">False</th>\n",
       "      <th>Active</th>\n",
       "      <td>39</td>\n",
       "      <td>0</td>\n",
       "    </tr>\n",
       "    <tr>\n",
       "      <th>Cancelled</th>\n",
       "      <td>70</td>\n",
       "      <td>0</td>\n",
       "    </tr>\n",
       "    <tr>\n",
       "      <th>Closed</th>\n",
       "      <td>0</td>\n",
       "      <td>730</td>\n",
       "    </tr>\n",
       "    <tr>\n",
       "      <th>Expired</th>\n",
       "      <td>7</td>\n",
       "      <td>0</td>\n",
       "    </tr>\n",
       "    <tr>\n",
       "      <th>Pending</th>\n",
       "      <td>8</td>\n",
       "      <td>0</td>\n",
       "    </tr>\n",
       "    <tr>\n",
       "      <th>Temp Off Market</th>\n",
       "      <td>6</td>\n",
       "      <td>0</td>\n",
       "    </tr>\n",
       "    <tr>\n",
       "      <th rowspan=\"2\" valign=\"top\">True</th>\n",
       "      <th>Active</th>\n",
       "      <td>1590</td>\n",
       "      <td>0</td>\n",
       "    </tr>\n",
       "    <tr>\n",
       "      <th>Pending</th>\n",
       "      <td>38</td>\n",
       "      <td>0</td>\n",
       "    </tr>\n",
       "  </tbody>\n",
       "</table>\n",
       "</div>"
      ],
      "text/plain": [
       "closePrice             False  True \n",
       "media status                       \n",
       "False Active              39      0\n",
       "      Cancelled           70      0\n",
       "      Closed               0    730\n",
       "      Expired              7      0\n",
       "      Pending              8      0\n",
       "      Temp Off Market      6      0\n",
       "True  Active            1590      0\n",
       "      Pending             38      0"
      ]
     },
     "execution_count": 596,
     "metadata": {},
     "output_type": "execute_result"
    }
   ],
   "source": [
    "pd.crosstab([phoenix_df.media.notnull(), phoenix_df.status], phoenix_df.closePrice.notnull())"
   ]
  },
  {
   "cell_type": "code",
   "execution_count": 597,
   "metadata": {
    "collapsed": false
   },
   "outputs": [
    {
     "data": {
      "text/plain": [
       "Index(['aboveGradeFinishedArea', 'accessibilityFeatures', 'acres',\n",
       "       'additionalParcels', 'address', 'agent', 'appliances', 'baths',\n",
       "       'bedrooms', 'belowGradeFinishedArea', 'cancelationDate',\n",
       "       'carportSpaces', 'city', 'closePrice', 'constructionMaterials',\n",
       "       'contingency', 'cooling', 'coordinates', 'country', 'county',\n",
       "       'dateListed', 'dateSold', 'daysOnMarket', 'disclosures', 'distanceFrom',\n",
       "       'expirationDate', 'exteriorFeatures', 'financialDataSource',\n",
       "       'fireplaceFeatures', 'fireplaces', 'flooring', 'foundationDetails',\n",
       "       'frontageLength', 'garageSpaces', 'gas', 'halfBaths', 'heating', 'id',\n",
       "       'lastModified', 'laundry', 'listDate', 'livingArea', 'media',\n",
       "       'mlsAgentID', 'mlsListingID', 'mlsOfficeID', 'occupantType', 'office',\n",
       "       'openParking', 'originalPrice', 'ownership', 'parcelNumber', 'pool',\n",
       "       'poolFeatures', 'poolPrivate', 'possession', 'previousPrice', 'price',\n",
       "       'privateRemarks', 'publicRemarks', 'roadSurface', 'roof', 'roomsTotal',\n",
       "       'sewer', 'squareFootage', 'state', 'status', 'statusChange', 'stories',\n",
       "       'storiesTotal', 'streetName', 'streetNumber', 'subdivision', 'subtype',\n",
       "       'taxAnnual', 'taxAssessedValue', 'taxStatus', 'taxYear',\n",
       "       'telephoneService', 'termsOfSale', 'type', 'unitNumber',\n",
       "       'unitsInBuilding', 'url', 'view', 'waterSource', 'waterfront',\n",
       "       'yearBuilt', 'yearBuiltDetails', 'zipCode', 'zoning',\n",
       "       'zoningDescription'],\n",
       "      dtype='object')"
      ]
     },
     "execution_count": 597,
     "metadata": {},
     "output_type": "execute_result"
    }
   ],
   "source": [
    "phoenix_df.columns"
   ]
  },
  {
   "cell_type": "code",
   "execution_count": 598,
   "metadata": {
    "collapsed": false
   },
   "outputs": [],
   "source": [
    "lastday = pd.to_datetime(phoenix_df.lastModified).apply(lambda x:x.date())\n",
    "listday = pd.to_datetime(phoenix_df.listDate).apply(lambda x:x.date())\n",
    "#pd.to_datetime(phoenix_df.listDate).astype('datetime[ns]')"
   ]
  },
  {
   "cell_type": "code",
   "execution_count": 601,
   "metadata": {
    "collapsed": false
   },
   "outputs": [
    {
     "data": {
      "text/plain": [
       "<matplotlib.axes._subplots.AxesSubplot at 0x11678c828>"
      ]
     },
     "execution_count": 601,
     "metadata": {},
     "output_type": "execute_result"
    },
    {
     "data": {
      "image/png": "[encoded data removed]",
      "text/plain": [
       "<matplotlib.figure.Figure at 0x114dfad30>"
      ]
     },
     "metadata": {},
     "output_type": "display_data"
    }
   ],
   "source": [
    "s = pd.Series((lastday - listday).astype('timedelta64[D]').values, lastday)\n",
    "s = s.sort_index()\n",
    "s.tail(1000).plot(figsize=(12,8))\n",
    "#.ix['2015/01/01':].plot(figsize=(12,8))"
   ]
  },
  {
   "cell_type": "markdown",
   "metadata": {},
   "source": [
    "### Job Pipeline"
   ]
  },
  {
   "cell_type": "code",
   "execution_count": 602,
   "metadata": {
    "collapsed": false
   },
   "outputs": [],
   "source": [
    "pre_indexes = {\n",
    "    \"good_bedrooms\": (phoenix_df.bedrooms <= 5),\n",
    "    # \"status\": phoenix_df.status == 'Pending',\n",
    "    # \"good_datesold\": (phoenix_df.dateSold > phoenix_df.listDate),\n",
    "    # \"has_close_price\": phoenix_df.closePrice.notnull(),\n",
    "}"
   ]
  },
  {
   "cell_type": "code",
   "execution_count": 603,
   "metadata": {
    "collapsed": false
   },
   "outputs": [
    {
     "name": "stdout",
     "output_type": "stream",
     "text": [
      "good_bedrooms 2467\n"
     ]
    }
   ],
   "source": [
    "pre_filter_criteria = gen_filters(pre_indexes)"
   ]
  },
  {
   "cell_type": "code",
   "execution_count": 604,
   "metadata": {
    "collapsed": false
   },
   "outputs": [],
   "source": [
    "pre_df = phoenix_df.drop_duplicates()"
   ]
  },
  {
   "cell_type": "code",
   "execution_count": 605,
   "metadata": {
    "collapsed": true
   },
   "outputs": [],
   "source": [
    "cols = [\n",
    "    'mlsListingID',\n",
    "    'listDate',\n",
    "    'dateSold',\n",
    "    'price',\n",
    "    'closePrice',\n",
    "    'bedrooms',\n",
    "    'baths',\n",
    "    'squareFootage',\n",
    "    'constructionMaterials',\n",
    "    'subtype',\n",
    "    'media',\n",
    "    'status',\n",
    "    'lastModified',\n",
    "]\n"
   ]
  },
  {
   "cell_type": "code",
   "execution_count": 606,
   "metadata": {
    "collapsed": false
   },
   "outputs": [],
   "source": [
    "calc_df = pre_df.groupby('bedrooms').price.describe().unstack().reset_index()\n",
    "\n",
    "post_df = pd.merge(pre_df[cols], calc_df, left_on='bedrooms', right_on='bedrooms', suffixes=['','_agg'], how='inner')"
   ]
  },
  {
   "cell_type": "code",
   "execution_count": 607,
   "metadata": {
    "collapsed": true
   },
   "outputs": [],
   "source": [
    "## generate new fields\n",
    "post_df['job_value'] = (post_df['75%'] - post_df.price)/2.\n"
   ]
  },
  {
   "cell_type": "code",
   "execution_count": 608,
   "metadata": {
    "collapsed": false
   },
   "outputs": [],
   "source": [
    "lastday = pd.to_datetime(post_df.lastModified).apply(lambda x:x.date())\n",
    "post_df['days_since_updated'] = (datetime.now().date() - listday).astype('timedelta64[D]')"
   ]
  },
  {
   "cell_type": "code",
   "execution_count": 609,
   "metadata": {
    "collapsed": false
   },
   "outputs": [],
   "source": [
    "post_indexes = {\n",
    "    # \"good_bedrooms\": (phoenix_df.bedrooms <= 5),\n",
    "    \"status\": post_df.status == 'Pending',\n",
    "    \"job_value\": post_df.job_value > 0,\n",
    "    # \"good_datesold\": (phoenix_df.dateSold > phoenix_df.listDate),\n",
    "    # \"has_close_price\": phoenix_df.closePrice.notnull(),\n",
    "}"
   ]
  },
  {
   "cell_type": "code",
   "execution_count": 610,
   "metadata": {
    "collapsed": false
   },
   "outputs": [
    {
     "name": "stdout",
     "output_type": "stream",
     "text": [
      "status 45\n",
      "job_value 1828\n"
     ]
    }
   ],
   "source": [
    "post_filter_criteria = gen_filters(post_indexes)"
   ]
  },
  {
   "cell_type": "code",
   "execution_count": 611,
   "metadata": {
    "collapsed": true
   },
   "outputs": [],
   "source": [
    "remove_cols = [\n",
    "    'count',\n",
    "    'mean',\n",
    "    'std',\n",
    "    'min',\n",
    "    '25%',\n",
    "    '50%',\n",
    "    '75%',\n",
    "    'max'\n",
    "]"
   ]
  },
  {
   "cell_type": "code",
   "execution_count": 612,
   "metadata": {
    "collapsed": false
   },
   "outputs": [],
   "source": [
    "post_df = post_df[post_filter_criteria].sort_values(by='job_value', ascending=False)\n",
    "final_df = post_df.drop(remove_cols, axis=1)\n"
   ]
  },
  {
   "cell_type": "code",
   "execution_count": 613,
   "metadata": {
    "collapsed": false
   },
   "outputs": [],
   "source": [
    "final_df.T.to_json('../../data/phoenix.json')"
   ]
  },
  {
   "cell_type": "markdown",
   "metadata": {},
   "source": [
    "### Analysis"
   ]
  },
  {
   "cell_type": "code",
   "execution_count": 439,
   "metadata": {
    "collapsed": false
   },
   "outputs": [
    {
     "name": "stdout",
     "output_type": "stream",
     "text": [
      "phoenix, pending\n"
     ]
    },
    {
     "data": {
      "image/png": "[encoded data removed]",
      "text/plain": [
       "<matplotlib.figure.Figure at 0x1145959e8>"
      ]
     },
     "metadata": {},
     "output_type": "display_data"
    }
   ],
   "source": [
    "c = ['price', 'squareFootage', 'bedrooms', 'baths', 'job_value']\n",
    "pd.scatter_matrix(final_df[c], figsize=(12,10))\n",
    "print(\"phoenix, pending\")"
   ]
  },
  {
   "cell_type": "markdown",
   "metadata": {},
   "source": [
    "### AZ"
   ]
  },
  {
   "cell_type": "code",
   "execution_count": null,
   "metadata": {
    "collapsed": false
   },
   "outputs": [],
   "source": [
    "az_df.to_csv('../../data/az_df.csv')"
   ]
  },
  {
   "cell_type": "code",
   "execution_count": null,
   "metadata": {
    "collapsed": false
   },
   "outputs": [],
   "source": [
    "c = ['baths',\n",
    "'bedrooms',\n",
    "'acres',\n",
    "'squareFootage',\n",
    "'closePrice',\n",
    "'daysOnMarket',\n",
    "'originalPrice',\n",
    "'price',\n",
    "'yearBuilt']"
   ]
  },
  {
   "cell_type": "code",
   "execution_count": null,
   "metadata": {
    "collapsed": true
   },
   "outputs": [],
   "source": [
    "df = az_df[(np.abs(stats.zscore(az_df)) < 3).all(axis=1)]"
   ]
  },
  {
   "cell_type": "code",
   "execution_count": null,
   "metadata": {
    "collapsed": true
   },
   "outputs": [],
   "source": [
    "df"
   ]
  },
  {
   "cell_type": "code",
   "execution_count": null,
   "metadata": {
    "collapsed": false
   },
   "outputs": [],
   "source": [
    "pd.scatter_matrix(az_df[c], figsize=(13, 10))\n",
    "print('AZ 54000+ Listings')"
   ]
  },
  {
   "cell_type": "code",
   "execution_count": null,
   "metadata": {
    "collapsed": false
   },
   "outputs": [],
   "source": [
    "az_df.to_csv('../../data/az_df.csv')"
   ]
  },
  {
   "cell_type": "code",
   "execution_count": null,
   "metadata": {
    "collapsed": false
   },
   "outputs": [],
   "source": [
    "mesa_df.city.value_counts()"
   ]
  },
  {
   "cell_type": "code",
   "execution_count": null,
   "metadata": {
    "collapsed": false
   },
   "outputs": [],
   "source": [
    "m = mesa_df.dropna(axis=1, how='all')"
   ]
  },
  {
   "cell_type": "code",
   "execution_count": null,
   "metadata": {
    "collapsed": false
   },
   "outputs": [],
   "source": [
    "m.closePrice.dropna().astype(int).describe()"
   ]
  },
  {
   "cell_type": "code",
   "execution_count": null,
   "metadata": {
    "collapsed": false
   },
   "outputs": [],
   "source": [
    "(mesa_df.closePrice - mesa_df.originalPrice)"
   ]
  },
  {
   "cell_type": "code",
   "execution_count": null,
   "metadata": {
    "collapsed": false
   },
   "outputs": [],
   "source": [
    "dt = pd.DatetimeIndex(pd.to_datetime(mesa_df.listDate.astype('datetime64[s]'), infer_datetime_format=True).values)\n"
   ]
  },
  {
   "cell_type": "code",
   "execution_count": null,
   "metadata": {
    "collapsed": false
   },
   "outputs": [],
   "source": [
    "s = pd.Series(1, index=dt)\n",
    "s.resample('D', how='sum').fillna(0)"
   ]
  },
  {
   "cell_type": "code",
   "execution_count": null,
   "metadata": {
    "collapsed": false,
    "scrolled": false
   },
   "outputs": [],
   "source": [
    "# s.resample('D', how='sum').plot()"
   ]
  },
  {
   "cell_type": "code",
   "execution_count": null,
   "metadata": {
    "collapsed": false,
    "scrolled": true
   },
   "outputs": [],
   "source": [
    "s.resample('D', how='sum').fillna(0)"
   ]
  },
  {
   "cell_type": "code",
   "execution_count": null,
   "metadata": {
    "collapsed": true
   },
   "outputs": [],
   "source": []
  },
  {
   "cell_type": "code",
   "execution_count": null,
   "metadata": {
    "collapsed": true
   },
   "outputs": [],
   "source": []
  }
 ],
 "metadata": {
  "kernelspec": {
   "display_name": "Python 3",
   "language": "python",
   "name": "python3"
  },
  "language_info": {
   "codemirror_mode": {
    "name": "ipython",
    "version": 3
   },
   "file_extension": ".py",
   "mimetype": "text/x-python",
   "name": "python",
   "nbconvert_exporter": "python",
   "pygments_lexer": "ipython3",
   "version": "3.5.0"
  }
 },
 "nbformat": 4,
 "nbformat_minor": 0
}
