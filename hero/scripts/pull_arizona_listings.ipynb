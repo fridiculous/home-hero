{
 "cells": [
  {
   "cell_type": "code",
   "execution_count": 1099,
   "metadata": {
    "collapsed": false
   },
   "outputs": [
    {
     "name": "stdout",
     "output_type": "stream",
     "text": [
      "The autoreload extension is already loaded. To reload it, use:\n",
      "  %reload_ext autoreload\n"
     ]
    }
   ],
   "source": [
    "import pandas as pd\n",
    "import json\n",
    "\n",
    "%matplotlib inline\n",
    "%load_ext autoreload\n",
    "%autoreload"
   ]
  },
  {
   "cell_type": "code",
   "execution_count": 1089,
   "metadata": {
    "collapsed": false
   },
   "outputs": [],
   "source": [
    "from rets_api import *"
   ]
  },
  {
   "cell_type": "code",
   "execution_count": 1075,
   "metadata": {
    "collapsed": true
   },
   "outputs": [],
   "source": [
    "import matplotlib.pyplot as plt\n",
    "import numpy as np\n",
    "from scipy import stats\n",
    "import matplotlib\n",
    "matplotlib.style.use('ggplot')"
   ]
  },
  {
   "cell_type": "markdown",
   "metadata": {},
   "source": [
    "### vender information"
   ]
  },
  {
   "cell_type": "code",
   "execution_count": 997,
   "metadata": {
    "collapsed": false
   },
   "outputs": [],
   "source": [
    "venders = pd.DataFrame(json.loads(get_approved_venders())['bundle'])\n",
    "venders.to_csv('../../data/Approved_Vendors.csv')"
   ]
  },
  {
   "cell_type": "code",
   "execution_count": 1086,
   "metadata": {
    "collapsed": false
   },
   "outputs": [
    {
     "data": {
      "text/html": [
       "<div>\n",
       "<table border=\"1\" class=\"dataframe\">\n",
       "  <thead>\n",
       "    <tr style=\"text-align: right;\">\n",
       "      <th></th>\n",
       "      <th>activeAgents</th>\n",
       "      <th>activeListings</th>\n",
       "      <th>activeOffices</th>\n",
       "      <th>boundary</th>\n",
       "      <th>center</th>\n",
       "      <th>description</th>\n",
       "      <th>fips</th>\n",
       "      <th>id</th>\n",
       "      <th>info</th>\n",
       "      <th>location</th>\n",
       "      <th>logo</th>\n",
       "      <th>name</th>\n",
       "      <th>state</th>\n",
       "      <th>test</th>\n",
       "      <th>type</th>\n",
       "      <th>vendorID</th>\n",
       "    </tr>\n",
       "  </thead>\n",
       "  <tbody>\n",
       "    <tr>\n",
       "      <th>0</th>\n",
       "      <td>35038</td>\n",
       "      <td>37103</td>\n",
       "      <td>4566</td>\n",
       "      <td>[[[-114.03362274169922, 36.98500309285596], [-...</td>\n",
       "      <td>[-112.18359375, 34.834384821060844]</td>\n",
       "      <td>&lt;p&gt;ARMLS's mission is to provide its Subscribe...</td>\n",
       "      <td></td>\n",
       "      <td>55fb4673707b9d2f78c94cef</td>\n",
       "      <td></td>\n",
       "      <td>Arizona</td>\n",
       "      <td>https://retsly_images_production.s3.amazonaws....</td>\n",
       "      <td>Arizona Regional Multiple Listing Service</td>\n",
       "      <td>AZ</td>\n",
       "      <td>NaN</td>\n",
       "      <td>mls</td>\n",
       "      <td>armls</td>\n",
       "    </tr>\n",
       "    <tr>\n",
       "      <th>1</th>\n",
       "      <td>0</td>\n",
       "      <td>0</td>\n",
       "      <td>0</td>\n",
       "      <td>[[[-122.92327880859375, 49.03786794532644], [-...</td>\n",
       "      <td>[-92.98359590418198, 39.968139344483596]</td>\n",
       "      <td>&lt;p&gt;This includes property records, tax assessm...</td>\n",
       "      <td></td>\n",
       "      <td>560312c0322dbeacc6ebf9f4</td>\n",
       "      <td>&lt;style&gt;\\n#pub-info a {\\n  text-decoration: und...</td>\n",
       "      <td>United States</td>\n",
       "      <td>https://retsly_images_production.s3.amazonaws....</td>\n",
       "      <td>Public Records</td>\n",
       "      <td></td>\n",
       "      <td>NaN</td>\n",
       "      <td>datasource</td>\n",
       "      <td>pub</td>\n",
       "    </tr>\n",
       "    <tr>\n",
       "      <th>2</th>\n",
       "      <td>511</td>\n",
       "      <td>196</td>\n",
       "      <td>893</td>\n",
       "      <td>[[[-122.53131151199341, 37.78482544885859], [-...</td>\n",
       "      <td>[-122.43827104568481, 37.71005370074444]</td>\n",
       "      <td>&lt;p&gt;This is the static MLS test dataset availab...</td>\n",
       "      <td></td>\n",
       "      <td>52d9ac325bcd5a154ddb5c3d</td>\n",
       "      <td></td>\n",
       "      <td>San Francisco, CA</td>\n",
       "      <td>https://retsly_images_production.s3.amazonaws....</td>\n",
       "      <td>Static Test Vendor</td>\n",
       "      <td>CA</td>\n",
       "      <td>True</td>\n",
       "      <td>mls</td>\n",
       "      <td>test</td>\n",
       "    </tr>\n",
       "    <tr>\n",
       "      <th>3</th>\n",
       "      <td>13289</td>\n",
       "      <td>20701</td>\n",
       "      <td>6638</td>\n",
       "      <td>[[[-117.4372386932373, 33.22260546814777], [-1...</td>\n",
       "      <td>[-117.07963371276855, 32.93800819140586]</td>\n",
       "      <td>&lt;p&gt;This is one of the two dynamic data sets av...</td>\n",
       "      <td></td>\n",
       "      <td>5539603f13f73a860f5c8a28</td>\n",
       "      <td>&lt;p&gt;This dataset is updated every 15 minutes&lt;/p&gt;</td>\n",
       "      <td>San Diego, CA</td>\n",
       "      <td>https://retsly_images_production.s3.amazonaws....</td>\n",
       "      <td>San Diego Test Dataset</td>\n",
       "      <td>CA</td>\n",
       "      <td>True</td>\n",
       "      <td>mls</td>\n",
       "      <td>test_sd</td>\n",
       "    </tr>\n",
       "    <tr>\n",
       "      <th>4</th>\n",
       "      <td>3539</td>\n",
       "      <td>25514</td>\n",
       "      <td>3411</td>\n",
       "      <td>[[[-122.53435850143433, 37.811411388625636], [...</td>\n",
       "      <td>[-122.43864011764526, 37.69982398800188]</td>\n",
       "      <td>&lt;p&gt;This is one of the two dynamic data sets av...</td>\n",
       "      <td></td>\n",
       "      <td>5539602b13f73a860f5c8a27</td>\n",
       "      <td>&lt;p&gt;This dataset is updated every 15 minutes&lt;/p&gt;</td>\n",
       "      <td>San Francisco, CA</td>\n",
       "      <td>https://retsly_images_production.s3.amazonaws....</td>\n",
       "      <td>San Francisco Test Dataset</td>\n",
       "      <td>CA</td>\n",
       "      <td>True</td>\n",
       "      <td>mls</td>\n",
       "      <td>test_sf</td>\n",
       "    </tr>\n",
       "  </tbody>\n",
       "</table>\n",
       "</div>"
      ],
      "text/plain": [
       "   activeAgents  activeListings  activeOffices  \\\n",
       "0         35038           37103           4566   \n",
       "1             0               0              0   \n",
       "2           511             196            893   \n",
       "3         13289           20701           6638   \n",
       "4          3539           25514           3411   \n",
       "\n",
       "                                            boundary  \\\n",
       "0  [[[-114.03362274169922, 36.98500309285596], [-...   \n",
       "1  [[[-122.92327880859375, 49.03786794532644], [-...   \n",
       "2  [[[-122.53131151199341, 37.78482544885859], [-...   \n",
       "3  [[[-117.4372386932373, 33.22260546814777], [-1...   \n",
       "4  [[[-122.53435850143433, 37.811411388625636], [...   \n",
       "\n",
       "                                     center  \\\n",
       "0       [-112.18359375, 34.834384821060844]   \n",
       "1  [-92.98359590418198, 39.968139344483596]   \n",
       "2  [-122.43827104568481, 37.71005370074444]   \n",
       "3  [-117.07963371276855, 32.93800819140586]   \n",
       "4  [-122.43864011764526, 37.69982398800188]   \n",
       "\n",
       "                                         description fips  \\\n",
       "0  <p>ARMLS's mission is to provide its Subscribe...        \n",
       "1  <p>This includes property records, tax assessm...        \n",
       "2  <p>This is the static MLS test dataset availab...        \n",
       "3  <p>This is one of the two dynamic data sets av...        \n",
       "4  <p>This is one of the two dynamic data sets av...        \n",
       "\n",
       "                         id  \\\n",
       "0  55fb4673707b9d2f78c94cef   \n",
       "1  560312c0322dbeacc6ebf9f4   \n",
       "2  52d9ac325bcd5a154ddb5c3d   \n",
       "3  5539603f13f73a860f5c8a28   \n",
       "4  5539602b13f73a860f5c8a27   \n",
       "\n",
       "                                                info           location  \\\n",
       "0                                                               Arizona   \n",
       "1  <style>\\n#pub-info a {\\n  text-decoration: und...      United States   \n",
       "2                                                     San Francisco, CA   \n",
       "3    <p>This dataset is updated every 15 minutes</p>      San Diego, CA   \n",
       "4    <p>This dataset is updated every 15 minutes</p>  San Francisco, CA   \n",
       "\n",
       "                                                logo  \\\n",
       "0  https://retsly_images_production.s3.amazonaws....   \n",
       "1  https://retsly_images_production.s3.amazonaws....   \n",
       "2  https://retsly_images_production.s3.amazonaws....   \n",
       "3  https://retsly_images_production.s3.amazonaws....   \n",
       "4  https://retsly_images_production.s3.amazonaws....   \n",
       "\n",
       "                                        name state  test        type vendorID  \n",
       "0  Arizona Regional Multiple Listing Service    AZ   NaN         mls    armls  \n",
       "1                             Public Records         NaN  datasource      pub  \n",
       "2                         Static Test Vendor    CA  True         mls     test  \n",
       "3                     San Diego Test Dataset    CA  True         mls  test_sd  \n",
       "4                 San Francisco Test Dataset    CA  True         mls  test_sf  "
      ]
     },
     "execution_count": 1086,
     "metadata": {},
     "output_type": "execute_result"
    }
   ],
   "source": [
    "venders"
   ]
  },
  {
   "cell_type": "code",
   "execution_count": null,
   "metadata": {
    "collapsed": false
   },
   "outputs": [],
   "source": [
    "mesa_df = pd.DataFrame(json.loads(get_listings_near(offset=0))['bundle'])\n",
    "#venders.to_csv('../../data/Approved_Vendors.csv')"
   ]
  },
  {
   "cell_type": "code",
   "execution_count": null,
   "metadata": {
    "collapsed": true
   },
   "outputs": [],
   "source": [
    "mesa_list = batch_listings_near()\n",
    "mesa_df = pd.concat(mesa_list, axis=0)\n",
    "mesa_df.to_csv('../../data/city_mesa_df.csv')"
   ]
  },
  {
   "cell_type": "code",
   "execution_count": null,
   "metadata": {
    "collapsed": true
   },
   "outputs": [],
   "source": [
    "phoenix_list = get_arizona_listings(\"phoenix\")\n",
    "phoenix_df = pd.concat(phoenix_list, axis=0)\n",
    "phoenix_df.to_csv('../../data/city_phoenix_df.csv')"
   ]
  },
  {
   "cell_type": "markdown",
   "metadata": {},
   "source": [
    "### Get AZ Listings"
   ]
  },
  {
   "cell_type": "code",
   "execution_count": 1076,
   "metadata": {
    "collapsed": false
   },
   "outputs": [],
   "source": [
    "#az_list = batch_arizona_listings()\n",
    "#az_df = pd.concat(az_list2, axis=0)\n",
    "#az_df.to_csv('../../data/az_df.csv')"
   ]
  },
  {
   "cell_type": "markdown",
   "metadata": {},
   "source": [
    "### common utilties"
   ]
  },
  {
   "cell_type": "code",
   "execution_count": 1050,
   "metadata": {
    "collapsed": true
   },
   "outputs": [],
   "source": [
    "def gen_filters(indexes):\n",
    "    list_of_indexes = [i for i in indexes.items()]\n",
    "\n",
    "    filter_criteria = list_of_indexes[0][1]\n",
    "    for i, (k,v) in enumerate(list_of_indexes):\n",
    "        try:\n",
    "            print(k, sum(v))\n",
    "            filter_criteria = (filter_criteria & list_of_indexes[i+1][1])\n",
    "        except IndexError:\n",
    "            pass\n",
    "\n",
    "    return filter_criteria"
   ]
  },
  {
   "cell_type": "code",
   "execution_count": 1051,
   "metadata": {
    "collapsed": true
   },
   "outputs": [],
   "source": [
    "from datetime import datetime"
   ]
  },
  {
   "cell_type": "markdown",
   "metadata": {},
   "source": [
    "### generate data"
   ]
  },
  {
   "cell_type": "code",
   "execution_count": 1052,
   "metadata": {
    "collapsed": true
   },
   "outputs": [],
   "source": [
    "from IPython.display import HTML"
   ]
  },
  {
   "cell_type": "code",
   "execution_count": 1053,
   "metadata": {
    "collapsed": true
   },
   "outputs": [],
   "source": [
    "phoenix_df = pd.read_csv('../../data/city_phoenix_df.csv', index_col=0).reset_index(drop=True)"
   ]
  },
  {
   "cell_type": "markdown",
   "metadata": {},
   "source": [
    "### Investigate"
   ]
  },
  {
   "cell_type": "code",
   "execution_count": 1179,
   "metadata": {
    "collapsed": false
   },
   "outputs": [
    {
     "data": {
      "text/plain": [
       "Phoenix       2388\n",
       "Mesa            81\n",
       "Tempe            9\n",
       "Gilbert          6\n",
       "Scottsdale       3\n",
       "Chandler         1\n",
       "Name: city, dtype: int64"
      ]
     },
     "execution_count": 1179,
     "metadata": {},
     "output_type": "execute_result"
    }
   ],
   "source": [
    "phoenix_df.city.value_counts()"
   ]
  },
  {
   "cell_type": "code",
   "execution_count": 1180,
   "metadata": {
    "collapsed": false
   },
   "outputs": [
    {
     "data": {
      "text/html": [
       "<div>\n",
       "<table border=\"1\" class=\"dataframe\">\n",
       "  <thead>\n",
       "    <tr style=\"text-align: right;\">\n",
       "      <th></th>\n",
       "      <th>closePrice</th>\n",
       "      <th>False</th>\n",
       "      <th>True</th>\n",
       "    </tr>\n",
       "    <tr>\n",
       "      <th>media</th>\n",
       "      <th>status</th>\n",
       "      <th></th>\n",
       "      <th></th>\n",
       "    </tr>\n",
       "  </thead>\n",
       "  <tbody>\n",
       "    <tr>\n",
       "      <th rowspan=\"6\" valign=\"top\">False</th>\n",
       "      <th>Active</th>\n",
       "      <td>39</td>\n",
       "      <td>0</td>\n",
       "    </tr>\n",
       "    <tr>\n",
       "      <th>Cancelled</th>\n",
       "      <td>70</td>\n",
       "      <td>0</td>\n",
       "    </tr>\n",
       "    <tr>\n",
       "      <th>Closed</th>\n",
       "      <td>0</td>\n",
       "      <td>730</td>\n",
       "    </tr>\n",
       "    <tr>\n",
       "      <th>Expired</th>\n",
       "      <td>7</td>\n",
       "      <td>0</td>\n",
       "    </tr>\n",
       "    <tr>\n",
       "      <th>Pending</th>\n",
       "      <td>8</td>\n",
       "      <td>0</td>\n",
       "    </tr>\n",
       "    <tr>\n",
       "      <th>Temp Off Market</th>\n",
       "      <td>6</td>\n",
       "      <td>0</td>\n",
       "    </tr>\n",
       "    <tr>\n",
       "      <th rowspan=\"2\" valign=\"top\">True</th>\n",
       "      <th>Active</th>\n",
       "      <td>1590</td>\n",
       "      <td>0</td>\n",
       "    </tr>\n",
       "    <tr>\n",
       "      <th>Pending</th>\n",
       "      <td>38</td>\n",
       "      <td>0</td>\n",
       "    </tr>\n",
       "  </tbody>\n",
       "</table>\n",
       "</div>"
      ],
      "text/plain": [
       "closePrice             False  True \n",
       "media status                       \n",
       "False Active              39      0\n",
       "      Cancelled           70      0\n",
       "      Closed               0    730\n",
       "      Expired              7      0\n",
       "      Pending              8      0\n",
       "      Temp Off Market      6      0\n",
       "True  Active            1590      0\n",
       "      Pending             38      0"
      ]
     },
     "execution_count": 1180,
     "metadata": {},
     "output_type": "execute_result"
    }
   ],
   "source": [
    "pd.crosstab([phoenix_df.media.notnull(), phoenix_df.status], phoenix_df.closePrice.notnull())"
   ]
  },
  {
   "cell_type": "code",
   "execution_count": 1181,
   "metadata": {
    "collapsed": false
   },
   "outputs": [
    {
     "data": {
      "text/plain": [
       "Index(['aboveGradeFinishedArea', 'accessibilityFeatures', 'acres',\n",
       "       'additionalParcels', 'address', 'agent', 'appliances', 'baths',\n",
       "       'bedrooms', 'belowGradeFinishedArea', 'cancelationDate',\n",
       "       'carportSpaces', 'city', 'closePrice', 'constructionMaterials',\n",
       "       'contingency', 'cooling', 'coordinates', 'country', 'county',\n",
       "       'dateListed', 'dateSold', 'daysOnMarket', 'disclosures', 'distanceFrom',\n",
       "       'expirationDate', 'exteriorFeatures', 'financialDataSource',\n",
       "       'fireplaceFeatures', 'fireplaces', 'flooring', 'foundationDetails',\n",
       "       'frontageLength', 'garageSpaces', 'gas', 'halfBaths', 'heating', 'id',\n",
       "       'lastModified', 'laundry', 'listDate', 'livingArea', 'media',\n",
       "       'mlsAgentID', 'mlsListingID', 'mlsOfficeID', 'occupantType', 'office',\n",
       "       'openParking', 'originalPrice', 'ownership', 'parcelNumber', 'pool',\n",
       "       'poolFeatures', 'poolPrivate', 'possession', 'previousPrice', 'price',\n",
       "       'privateRemarks', 'publicRemarks', 'roadSurface', 'roof', 'roomsTotal',\n",
       "       'sewer', 'squareFootage', 'state', 'status', 'statusChange', 'stories',\n",
       "       'storiesTotal', 'streetName', 'streetNumber', 'subdivision', 'subtype',\n",
       "       'taxAnnual', 'taxAssessedValue', 'taxStatus', 'taxYear',\n",
       "       'telephoneService', 'termsOfSale', 'type', 'unitNumber',\n",
       "       'unitsInBuilding', 'url', 'view', 'waterSource', 'waterfront',\n",
       "       'yearBuilt', 'yearBuiltDetails', 'zipCode', 'zoning',\n",
       "       'zoningDescription', 'distance_in_miles_from_user'],\n",
       "      dtype='object')"
      ]
     },
     "execution_count": 1181,
     "metadata": {},
     "output_type": "execute_result"
    }
   ],
   "source": [
    "phoenix_df.columns"
   ]
  },
  {
   "cell_type": "code",
   "execution_count": 1182,
   "metadata": {
    "collapsed": false
   },
   "outputs": [],
   "source": [
    "lastday = pd.to_datetime(phoenix_df.lastModified).apply(lambda x:x.date())\n",
    "listday = pd.to_datetime(phoenix_df.listDate).apply(lambda x:x.date())\n",
    "#pd.to_datetime(phoenix_df.listDate).astype('datetime[ns]')"
   ]
  },
  {
   "cell_type": "code",
   "execution_count": 1183,
   "metadata": {
    "collapsed": false
   },
   "outputs": [
    {
     "data": {
      "text/plain": [
       "<matplotlib.axes._subplots.AxesSubplot at 0x112d7ecc0>"
      ]
     },
     "execution_count": 1183,
     "metadata": {},
     "output_type": "execute_result"
    },
    {
     "data": {
      "image/png": "[encoded data removed]",
      "text/plain": [
       "<matplotlib.figure.Figure at 0x112d7c4a8>"
      ]
     },
     "metadata": {},
     "output_type": "display_data"
    }
   ],
   "source": [
    "s = pd.Series((lastday - listday).astype('timedelta64[D]').values, lastday)\n",
    "s = s.sort_index()\n",
    "s.tail(1000).plot(figsize=(12,8))\n",
    "#.ix['2015/01/01':].plot(figsize=(12,8))"
   ]
  },
  {
   "cell_type": "code",
   "execution_count": 1184,
   "metadata": {
    "collapsed": false
   },
   "outputs": [
    {
     "data": {
      "text/plain": [
       "{'address': '1202 W Encanto Blvd, Phoenix AZ 85007',\n",
       " 'email': 'kyle.retsly@gmail.com',\n",
       " 'latitude': '33.474533',\n",
       " 'longitude': '-112.0899603',\n",
       " 'name': 'Kyle Retsly',\n",
       " 'phone': '213-301-1234',\n",
       " 'profile_photo': '',\n",
       " 'property_type': 'Single Family Home'}"
      ]
     },
     "execution_count": 1184,
     "metadata": {},
     "output_type": "execute_result"
    }
   ],
   "source": [
    "# Add user calculation\n",
    "\n",
    "myman = {\n",
    "   \"name\":'Kyle Retsly',\n",
    "   \"email\":'kyle.retsly@gmail.com',\n",
    "   \"phone\":'213-301-1234',\n",
    "   \"profile_photo\":'',\n",
    "   \"address\":'1202 W Encanto Blvd, Phoenix AZ 85007',\n",
    "   \"latitude\":'33.474533',\n",
    "   \"longitude\":'-112.0899603',\n",
    "   \"property_type\":'Single Family Home'\n",
    "}\n",
    "\n",
    "myman"
   ]
  },
  {
   "cell_type": "code",
   "execution_count": 1185,
   "metadata": {
    "collapsed": true
   },
   "outputs": [],
   "source": [
    "from geopy.distance import great_circle\n"
   ]
  },
  {
   "cell_type": "code",
   "execution_count": 1186,
   "metadata": {
    "collapsed": true
   },
   "outputs": [],
   "source": [
    "\n",
    "user_coord = float(myman['latitude']), float(myman['longitude'])\n",
    "coord = phoenix_df.coordinates.apply(lambda x:x[1:-1].split(',')[::-1]  )\n",
    "phoenix_df['distance_in_miles_from_user'] = coord.apply(lambda x:great_circle(x, user_coord).miles)"
   ]
  },
  {
   "cell_type": "markdown",
   "metadata": {},
   "source": [
    "### Job Pipeline"
   ]
  },
  {
   "cell_type": "code",
   "execution_count": 1217,
   "metadata": {
    "collapsed": false
   },
   "outputs": [],
   "source": [
    "pre_indexes = {\n",
    "    \"good_bedrooms\": (phoenix_df.bedrooms <= 5),\n",
    "    # \"status\": phoenix_df.status == 'Pending',\n",
    "    # \"good_datesold\": (phoenix_df.dateSold > phoenix_df.listDate),\n",
    "    # \"has_close_price\": phoenix_df.closePrice.notnull(),\n",
    "}"
   ]
  },
  {
   "cell_type": "code",
   "execution_count": 1218,
   "metadata": {
    "collapsed": false
   },
   "outputs": [
    {
     "name": "stdout",
     "output_type": "stream",
     "text": [
      "good_bedrooms 2467\n"
     ]
    }
   ],
   "source": [
    "pre_filter_criteria = gen_filters(pre_indexes)"
   ]
  },
  {
   "cell_type": "code",
   "execution_count": 1232,
   "metadata": {
    "collapsed": false
   },
   "outputs": [],
   "source": [
    "pre_df = phoenix_df.drop_duplicates()"
   ]
  },
  {
   "cell_type": "code",
   "execution_count": 1233,
   "metadata": {
    "collapsed": true
   },
   "outputs": [],
   "source": [
    "cols = [\n",
    "    'mlsListingID',\n",
    "    'mlsAgentID',\n",
    "    'mlsOfficeID',\n",
    "    'listDate',\n",
    "    'dateSold',\n",
    "    'price',\n",
    "    'closePrice',\n",
    "    'bedrooms',\n",
    "    'baths',\n",
    "    'squareFootage',\n",
    "    'constructionMaterials',\n",
    "    'subtype',\n",
    "    'media',\n",
    "    'status',\n",
    "    'lastModified',\n",
    "    'distance_in_miles_from_user',\n",
    "]\n"
   ]
  },
  {
   "cell_type": "code",
   "execution_count": 1234,
   "metadata": {
    "collapsed": false
   },
   "outputs": [
    {
     "ename": "ValueError",
     "evalue": "Length mismatch: Expected axis has 3 elements, new values have 2 elements",
     "output_type": "error",
     "traceback": [
      "\u001b[0;31m---------------------------------------------------------------------------\u001b[0m",
      "\u001b[0;31mValueError\u001b[0m                                Traceback (most recent call last)",
      "\u001b[0;32m<ipython-input-1234-2a317d952d24>\u001b[0m in \u001b[0;36m<module>\u001b[0;34m()\u001b[0m\n\u001b[1;32m      1\u001b[0m \u001b[0mm_df\u001b[0m \u001b[0;34m=\u001b[0m \u001b[0mpd\u001b[0m\u001b[0;34m.\u001b[0m\u001b[0mcrosstab\u001b[0m\u001b[0;34m(\u001b[0m\u001b[0mpre_df\u001b[0m\u001b[0;34m[\u001b[0m\u001b[0;34m'mlsAgentID'\u001b[0m\u001b[0;34m]\u001b[0m\u001b[0;34m,\u001b[0m \u001b[0mpre_df\u001b[0m\u001b[0;34m[\u001b[0m\u001b[0;34m'status'\u001b[0m\u001b[0;34m]\u001b[0m\u001b[0;34m)\u001b[0m\u001b[0;34m\u001b[0m\u001b[0m\n\u001b[1;32m      2\u001b[0m \u001b[0mm_df\u001b[0m \u001b[0;34m=\u001b[0m \u001b[0mm_df\u001b[0m\u001b[0;34m[\u001b[0m\u001b[0;34m[\u001b[0m\u001b[0;34m'Active'\u001b[0m\u001b[0;34m,\u001b[0m \u001b[0;34m'Pending'\u001b[0m\u001b[0;34m]\u001b[0m\u001b[0;34m]\u001b[0m\u001b[0;34m.\u001b[0m\u001b[0mreset_index\u001b[0m\u001b[0;34m(\u001b[0m\u001b[0;34m)\u001b[0m\u001b[0;34m\u001b[0m\u001b[0m\n\u001b[0;32m----> 3\u001b[0;31m \u001b[0mm_df\u001b[0m\u001b[0;34m.\u001b[0m\u001b[0mcolumns\u001b[0m \u001b[0;34m=\u001b[0m \u001b[0;34m[\u001b[0m\u001b[0;34m'num_active_listings'\u001b[0m\u001b[0;34m,\u001b[0m \u001b[0;34m'num_pending_listings'\u001b[0m\u001b[0;34m]\u001b[0m\u001b[0;34m\u001b[0m\u001b[0m\n\u001b[0m",
      "\u001b[0;32m/Users/simon.frid/.virtualenvs/lovely-django/lib/python3.5/site-packages/pandas/core/generic.py\u001b[0m in \u001b[0;36m__setattr__\u001b[0;34m(self, name, value)\u001b[0m\n\u001b[1;32m   2255\u001b[0m         \u001b[0;32mtry\u001b[0m\u001b[0;34m:\u001b[0m\u001b[0;34m\u001b[0m\u001b[0m\n\u001b[1;32m   2256\u001b[0m             \u001b[0mobject\u001b[0m\u001b[0;34m.\u001b[0m\u001b[0m__getattribute__\u001b[0m\u001b[0;34m(\u001b[0m\u001b[0mself\u001b[0m\u001b[0;34m,\u001b[0m \u001b[0mname\u001b[0m\u001b[0;34m)\u001b[0m\u001b[0;34m\u001b[0m\u001b[0m\n\u001b[0;32m-> 2257\u001b[0;31m             \u001b[0;32mreturn\u001b[0m \u001b[0mobject\u001b[0m\u001b[0;34m.\u001b[0m\u001b[0m__setattr__\u001b[0m\u001b[0;34m(\u001b[0m\u001b[0mself\u001b[0m\u001b[0;34m,\u001b[0m \u001b[0mname\u001b[0m\u001b[0;34m,\u001b[0m \u001b[0mvalue\u001b[0m\u001b[0;34m)\u001b[0m\u001b[0;34m\u001b[0m\u001b[0m\n\u001b[0m\u001b[1;32m   2258\u001b[0m         \u001b[0;32mexcept\u001b[0m \u001b[0mAttributeError\u001b[0m\u001b[0;34m:\u001b[0m\u001b[0;34m\u001b[0m\u001b[0m\n\u001b[1;32m   2259\u001b[0m             \u001b[0;32mpass\u001b[0m\u001b[0;34m\u001b[0m\u001b[0m\n",
      "\u001b[0;32mpandas/src/properties.pyx\u001b[0m in \u001b[0;36mpandas.lib.AxisProperty.__set__ (pandas/lib.c:44611)\u001b[0;34m()\u001b[0m\n",
      "\u001b[0;32m/Users/simon.frid/.virtualenvs/lovely-django/lib/python3.5/site-packages/pandas/core/generic.py\u001b[0m in \u001b[0;36m_set_axis\u001b[0;34m(self, axis, labels)\u001b[0m\n\u001b[1;32m    422\u001b[0m \u001b[0;34m\u001b[0m\u001b[0m\n\u001b[1;32m    423\u001b[0m     \u001b[0;32mdef\u001b[0m \u001b[0m_set_axis\u001b[0m\u001b[0;34m(\u001b[0m\u001b[0mself\u001b[0m\u001b[0;34m,\u001b[0m \u001b[0maxis\u001b[0m\u001b[0;34m,\u001b[0m \u001b[0mlabels\u001b[0m\u001b[0;34m)\u001b[0m\u001b[0;34m:\u001b[0m\u001b[0;34m\u001b[0m\u001b[0m\n\u001b[0;32m--> 424\u001b[0;31m         \u001b[0mself\u001b[0m\u001b[0;34m.\u001b[0m\u001b[0m_data\u001b[0m\u001b[0;34m.\u001b[0m\u001b[0mset_axis\u001b[0m\u001b[0;34m(\u001b[0m\u001b[0maxis\u001b[0m\u001b[0;34m,\u001b[0m \u001b[0mlabels\u001b[0m\u001b[0;34m)\u001b[0m\u001b[0;34m\u001b[0m\u001b[0m\n\u001b[0m\u001b[1;32m    425\u001b[0m         \u001b[0mself\u001b[0m\u001b[0;34m.\u001b[0m\u001b[0m_clear_item_cache\u001b[0m\u001b[0;34m(\u001b[0m\u001b[0;34m)\u001b[0m\u001b[0;34m\u001b[0m\u001b[0m\n\u001b[1;32m    426\u001b[0m \u001b[0;34m\u001b[0m\u001b[0m\n",
      "\u001b[0;32m/Users/simon.frid/.virtualenvs/lovely-django/lib/python3.5/site-packages/pandas/core/internals.py\u001b[0m in \u001b[0;36mset_axis\u001b[0;34m(self, axis, new_labels)\u001b[0m\n\u001b[1;32m   2458\u001b[0m         \u001b[0;32mif\u001b[0m \u001b[0mnew_len\u001b[0m \u001b[0;34m!=\u001b[0m \u001b[0mold_len\u001b[0m\u001b[0;34m:\u001b[0m\u001b[0;34m\u001b[0m\u001b[0m\n\u001b[1;32m   2459\u001b[0m             raise ValueError('Length mismatch: Expected axis has %d elements, '\n\u001b[0;32m-> 2460\u001b[0;31m                              'new values have %d elements' % (old_len, new_len))\n\u001b[0m\u001b[1;32m   2461\u001b[0m \u001b[0;34m\u001b[0m\u001b[0m\n\u001b[1;32m   2462\u001b[0m         \u001b[0mself\u001b[0m\u001b[0;34m.\u001b[0m\u001b[0maxes\u001b[0m\u001b[0;34m[\u001b[0m\u001b[0maxis\u001b[0m\u001b[0;34m]\u001b[0m \u001b[0;34m=\u001b[0m \u001b[0mnew_labels\u001b[0m\u001b[0;34m\u001b[0m\u001b[0m\n",
      "\u001b[0;31mValueError\u001b[0m: Length mismatch: Expected axis has 3 elements, new values have 2 elements"
     ]
    }
   ],
   "source": [
    "m_df = pd.crosstab(pre_df['mlsAgentID'], pre_df['status'])\n",
    "m_df = m_df[['Active', 'Pending']].reset_index()\n",
    "m_df.columns = ['num_active_listings', 'num_pending_listings']"
   ]
  },
  {
   "cell_type": "code",
   "execution_count": 1235,
   "metadata": {
    "collapsed": false
   },
   "outputs": [],
   "source": [
    "calc_df = pre_df.groupby('bedrooms').price.describe().unstack().reset_index()\n",
    "\n",
    "m_df = pd.merge(m_df, pre_df[cols], left_on='mlsAgentID', right_on='mlsAgentID', suffixes=['','_agent'], how='inner')\n",
    "\n",
    "post_df = pd.merge(m_df, calc_df, left_on='bedrooms', right_on='bedrooms', suffixes=['','_agg'], how='inner')"
   ]
  },
  {
   "cell_type": "code",
   "execution_count": 1236,
   "metadata": {
    "collapsed": true
   },
   "outputs": [],
   "source": [
    "## generate new fields\n",
    "post_df['job_value'] = (post_df['75%'] - post_df.price)/2.\n"
   ]
  },
  {
   "cell_type": "code",
   "execution_count": 1237,
   "metadata": {
    "collapsed": false
   },
   "outputs": [],
   "source": [
    "lastday = pd.to_datetime(post_df.lastModified).apply(lambda x:x.date())\n",
    "post_df['days_since_updated'] = (datetime.now().date() - listday).astype('timedelta64[D]')\n"
   ]
  },
  {
   "cell_type": "code",
   "execution_count": 1238,
   "metadata": {
    "collapsed": false
   },
   "outputs": [],
   "source": [
    "post_indexes = {\n",
    "    # \"good_bedrooms\": (phoenix_df.bedrooms <= 5),\n",
    "    \"status\": post_df.status == 'Pending',\n",
    "    \"job_value\": post_df.job_value > 0,\n",
    "    \"has_media\": post_df.media.notnull(),\n",
    "    \n",
    "    # \"good_datesold\": (phoenix_df.dateSold > phoenix_df.listDate),\n",
    "    # \"has_close_price\": phoenix_df.closePrice.notnull(),\n",
    "}"
   ]
  },
  {
   "cell_type": "code",
   "execution_count": 1239,
   "metadata": {
    "collapsed": false
   },
   "outputs": [
    {
     "name": "stdout",
     "output_type": "stream",
     "text": [
      "status 45\n",
      "has_media 1598\n",
      "job_value 1828\n"
     ]
    }
   ],
   "source": [
    "post_filter_criteria = gen_filters(post_indexes)"
   ]
  },
  {
   "cell_type": "code",
   "execution_count": 1240,
   "metadata": {
    "collapsed": true
   },
   "outputs": [],
   "source": [
    "remove_cols = [\n",
    "    'count',\n",
    "    'mean',\n",
    "    'std',\n",
    "    'min',\n",
    "    '25%',\n",
    "    '50%',\n",
    "    '75%',\n",
    "    'max'\n",
    "]"
   ]
  },
  {
   "cell_type": "code",
   "execution_count": 1241,
   "metadata": {
    "collapsed": false
   },
   "outputs": [],
   "source": [
    "post_df = post_df[post_filter_criteria].sort_values(by='job_value', ascending=False)\n"
   ]
  },
  {
   "cell_type": "code",
   "execution_count": 1242,
   "metadata": {
    "collapsed": true
   },
   "outputs": [],
   "source": [
    "post_df['media'] = post_df.media.apply(lambda x:json.loads(x.replace(\"'\", '\"')))\n",
    "\n",
    "final_df = post_df.drop(remove_cols, axis=1)\n"
   ]
  },
  {
   "cell_type": "code",
   "execution_count": 1243,
   "metadata": {
    "collapsed": false
   },
   "outputs": [],
   "source": [
    "final_df.to_json('../../data/phoenix.json', orient='records')"
   ]
  },
  {
   "cell_type": "markdown",
   "metadata": {},
   "source": [
    "### Add Functionality"
   ]
  },
  {
   "cell_type": "markdown",
   "metadata": {},
   "source": [
    "### Analysis"
   ]
  },
  {
   "cell_type": "code",
   "execution_count": 439,
   "metadata": {
    "collapsed": false
   },
   "outputs": [
    {
     "name": "stdout",
     "output_type": "stream",
     "text": [
      "phoenix, pending\n"
     ]
    },
    {
     "data": {
      "image/png": "[encoded data removed]",
      "text/plain": [
       "<matplotlib.figure.Figure at 0x1145959e8>"
      ]
     },
     "metadata": {},
     "output_type": "display_data"
    }
   ],
   "source": [
    "c = ['price', 'squareFootage', 'bedrooms', 'baths', 'job_value']\n",
    "pd.scatter_matrix(final_df[c], figsize=(12,10))\n",
    "print(\"phoenix, pending\")"
   ]
  },
  {
   "cell_type": "markdown",
   "metadata": {},
   "source": [
    "### AZ"
   ]
  },
  {
   "cell_type": "code",
   "execution_count": null,
   "metadata": {
    "collapsed": false
   },
   "outputs": [],
   "source": [
    "az_df.to_csv('../../data/az_df.csv')"
   ]
  },
  {
   "cell_type": "code",
   "execution_count": null,
   "metadata": {
    "collapsed": false
   },
   "outputs": [],
   "source": [
    "c = ['baths',\n",
    "'bedrooms',\n",
    "'acres',\n",
    "'squareFootage',\n",
    "'closePrice',\n",
    "'daysOnMarket',\n",
    "'originalPrice',\n",
    "'price',\n",
    "'yearBuilt']"
   ]
  },
  {
   "cell_type": "code",
   "execution_count": null,
   "metadata": {
    "collapsed": true
   },
   "outputs": [],
   "source": [
    "df = az_df[(np.abs(stats.zscore(az_df)) < 3).all(axis=1)]"
   ]
  },
  {
   "cell_type": "code",
   "execution_count": null,
   "metadata": {
    "collapsed": true
   },
   "outputs": [],
   "source": [
    "df"
   ]
  },
  {
   "cell_type": "code",
   "execution_count": null,
   "metadata": {
    "collapsed": false
   },
   "outputs": [],
   "source": [
    "pd.scatter_matrix(az_df[c], figsize=(13, 10))\n",
    "print('AZ 54000+ Listings')"
   ]
  },
  {
   "cell_type": "code",
   "execution_count": null,
   "metadata": {
    "collapsed": false
   },
   "outputs": [],
   "source": [
    "az_df.to_csv('../../data/az_df.csv')"
   ]
  },
  {
   "cell_type": "code",
   "execution_count": null,
   "metadata": {
    "collapsed": false
   },
   "outputs": [],
   "source": [
    "mesa_df.city.value_counts()"
   ]
  },
  {
   "cell_type": "code",
   "execution_count": null,
   "metadata": {
    "collapsed": false
   },
   "outputs": [],
   "source": [
    "m = mesa_df.dropna(axis=1, how='all')"
   ]
  },
  {
   "cell_type": "code",
   "execution_count": null,
   "metadata": {
    "collapsed": false
   },
   "outputs": [],
   "source": [
    "m.closePrice.dropna().astype(int).describe()"
   ]
  },
  {
   "cell_type": "code",
   "execution_count": null,
   "metadata": {
    "collapsed": false
   },
   "outputs": [],
   "source": [
    "(mesa_df.closePrice - mesa_df.originalPrice)"
   ]
  },
  {
   "cell_type": "code",
   "execution_count": null,
   "metadata": {
    "collapsed": false
   },
   "outputs": [],
   "source": [
    "dt = pd.DatetimeIndex(pd.to_datetime(mesa_df.listDate.astype('datetime64[s]'), infer_datetime_format=True).values)\n"
   ]
  },
  {
   "cell_type": "code",
   "execution_count": null,
   "metadata": {
    "collapsed": false
   },
   "outputs": [],
   "source": [
    "s = pd.Series(1, index=dt)\n",
    "s.resample('D', how='sum').fillna(0)"
   ]
  },
  {
   "cell_type": "code",
   "execution_count": null,
   "metadata": {
    "collapsed": false,
    "scrolled": false
   },
   "outputs": [],
   "source": [
    "# s.resample('D', how='sum').plot()"
   ]
  },
  {
   "cell_type": "code",
   "execution_count": null,
   "metadata": {
    "collapsed": false,
    "scrolled": true
   },
   "outputs": [],
   "source": [
    "s.resample('D', how='sum').fillna(0)"
   ]
  },
  {
   "cell_type": "code",
   "execution_count": null,
   "metadata": {
    "collapsed": true
   },
   "outputs": [],
   "source": []
  },
  {
   "cell_type": "code",
   "execution_count": null,
   "metadata": {
    "collapsed": true
   },
   "outputs": [],
   "source": []
  }
 ],
 "metadata": {
  "kernelspec": {
   "display_name": "Python 3",
   "language": "python",
   "name": "python3"
  },
  "language_info": {
   "codemirror_mode": {
    "name": "ipython",
    "version": 3
   },
   "file_extension": ".py",
   "mimetype": "text/x-python",
   "name": "python",
   "nbconvert_exporter": "python",
   "pygments_lexer": "ipython3",
   "version": "3.5.0"
  }
 },
 "nbformat": 4,
 "nbformat_minor": 0
}
